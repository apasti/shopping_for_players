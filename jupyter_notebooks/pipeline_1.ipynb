{
 "cells": [
  {
   "cell_type": "code",
   "execution_count": 1,
   "metadata": {},
   "outputs": [],
   "source": [
    "import pandas as pd\n",
    "import numpy as np\n",
    "import datetime as dt\n",
    "import datetime\n",
    "from datetime import datetime, timedelta, date\n",
    "import warnings\n",
    "\n",
    "#settings\n",
    "warnings.filterwarnings(\"ignore\")\n",
    "\n",
    "appearances_df = pd.read_csv(\"../raw_data/appearances.csv\")\n",
    "clubs_df = pd.read_csv(\"../raw_data/clubs.csv\")\n",
    "games_df = pd.read_csv(\"../raw_data/games.csv\")\n",
    "players_df = pd.read_csv(\"../raw_data/players.csv\")\n",
    "valuations_df = pd.read_csv(\"../raw_data/player_valuations.csv\")"
   ]
  },
  {
   "attachments": {},
   "cell_type": "markdown",
   "metadata": {},
   "source": [
    "# PIPELINE IDEAL\n",
    "\n",
    "  - import raw data\n",
    "  - create four dataframes divided by role\n",
    "  - cleaning \n",
    "    - fitering by season (for now only 2022)\n",
    "    - dropping\n",
    "    - imputing\n",
    "      - foot\n",
    "      - club value\n",
    "  - feature engineering\n",
    "    - add year\n",
    "    - calculate stats per year\n",
    "    - nonlinear feature (multiply, divide by the market values)\n",
    "  - preprocessing\n",
    "    - encoding categoricals \n",
    "    - convert date differences into numbers\n",
    "    - add ages, remaining days\n",
    " "
   ]
  },
  {
   "cell_type": "code",
   "execution_count": 2,
   "metadata": {},
   "outputs": [],
   "source": [
    "valuations_df['datetime']=pd.to_datetime(valuations_df['date'], format=\"%Y-%m-%d\")\n",
    "valuations_df['year']=valuations_df['datetime'].dt.year\n",
    "valuations_df = valuations_df[(valuations_df.year > 2021 )]\n",
    "\n",
    "   "
   ]
  },
  {
   "cell_type": "code",
   "execution_count": 3,
   "metadata": {},
   "outputs": [
    {
     "data": {
      "text/plain": [
       "(42316, 8)"
      ]
     },
     "execution_count": 3,
     "metadata": {},
     "output_type": "execute_result"
    }
   ],
   "source": [
    "valuations_df.shape"
   ]
  },
  {
   "attachments": {},
   "cell_type": "markdown",
   "metadata": {},
   "source": [
    "# PIPELINE REAL\n",
    "  - save all the potentially interesting columns as a pickle --- include the target\n",
    "  - create a  pipeline function taking this table as input and fit_transform---> save as a pickle\n",
    "  - use this data to train the model  --> save as a pickle\n",
    "  - with the same pipeline, transform the data inputed by user\n",
    "  - predict with the model"
   ]
  },
  {
   "cell_type": "markdown",
   "metadata": {},
   "source": []
  }
 ],
 "metadata": {
  "kernelspec": {
   "display_name": "S4P",
   "language": "python",
   "name": "python3"
  },
  "language_info": {
   "codemirror_mode": {
    "name": "ipython",
    "version": 3
   },
   "file_extension": ".py",
   "mimetype": "text/x-python",
   "name": "python",
   "nbconvert_exporter": "python",
   "pygments_lexer": "ipython3",
   "version": "3.10.6"
  },
  "orig_nbformat": 4
 },
 "nbformat": 4,
 "nbformat_minor": 2
}
