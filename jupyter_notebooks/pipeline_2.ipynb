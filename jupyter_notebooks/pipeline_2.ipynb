{
 "cells": [
  {
   "cell_type": "code",
   "execution_count": 39,
   "metadata": {},
   "outputs": [],
   "source": [
    "import pickle as pk"
   ]
  },
  {
   "cell_type": "code",
   "execution_count": 35,
   "metadata": {},
   "outputs": [],
   "source": [
    "from sklearn.model_selection import train_test_split, cross_validate\n",
    "from sklearn.ensemble import GradientBoostingRegressor\n",
    "from sklearn.pipeline import make_pipeline, Pipeline\n",
    "from sklearn.compose import ColumnTransformer\n",
    "from sklearn.feature_selection import SelectPercentile, mutual_info_regression\n",
    "from sklearn.pipeline import make_pipeline\n",
    "from sklearn.preprocessing import OrdinalEncoder, MinMaxScaler, OneHotEncoder, StandardScaler\n",
    "from sklearn.impute import SimpleImputer, KNNImputer\n",
    "# VIEWING OPTIONS IN THE NOTEBOOK\n",
    "from sklearn import set_config; set_config(display='diagram')"
   ]
  },
  {
   "cell_type": "code",
   "execution_count": 13,
   "metadata": {},
   "outputs": [],
   "source": [
    "import pandas as pd\n",
    "import numpy as np\n",
    "import seaborn as sns"
   ]
  },
  {
   "cell_type": "code",
   "execution_count": 14,
   "metadata": {},
   "outputs": [],
   "source": [
    "df = pd.read_pickle('attackers_df.pkl')"
   ]
  },
  {
   "cell_type": "code",
   "execution_count": 29,
   "metadata": {},
   "outputs": [
    {
     "data": {
      "text/plain": [
       "(2085, 29)"
      ]
     },
     "execution_count": 29,
     "metadata": {},
     "output_type": "execute_result"
    }
   ],
   "source": [
    "df.shape"
   ]
  },
  {
   "cell_type": "code",
   "execution_count": 16,
   "metadata": {},
   "outputs": [],
   "source": [
    "numerical_features = [ 'games_2022', 'minutes_played_2022', 'goals_2022',\n",
    "       'assists_2022', 'goals_against_2022', 'goals_for_2022',\n",
    "       'clean_sheet_2022', 'height_in_cm', 'age', \n",
    "       'club_value', 'squad_size', 'term_days_remaining',\n",
    "       'value_goals_for_2022', 'yellow_cards_2022', 'red_cards_2022']\n",
    "categorical_features = ['sub_position', 'foot']\n",
    "ordinal_features = ['country_of_citizenship','current_club_domestic_competition_id', 'current_club_name']\n",
    "target = 'market_value_in_eur'"
   ]
  },
  {
   "cell_type": "code",
   "execution_count": 31,
   "metadata": {},
   "outputs": [
    {
     "data": {
      "text/plain": [
       "20"
      ]
     },
     "execution_count": 31,
     "metadata": {},
     "output_type": "execute_result"
    }
   ],
   "source": [
    "len(numerical_features)+len(categorical_features)+len(ordinal_features)"
   ]
  },
  {
   "cell_type": "code",
   "execution_count": 50,
   "metadata": {},
   "outputs": [
    {
     "data": {
      "text/plain": [
       "array(['Centre-Forward', 'Right Winger', 'Attacking Midfield',\n",
       "       'Left Winger', 'Second Striker', nan], dtype=object)"
      ]
     },
     "execution_count": 50,
     "metadata": {},
     "output_type": "execute_result"
    }
   ],
   "source": [
    "df.sub_position.unique()"
   ]
  },
  {
   "cell_type": "code",
   "execution_count": 17,
   "metadata": {},
   "outputs": [],
   "source": [
    "numerical_transformer =  MinMaxScaler()\n"
   ]
  },
  {
   "cell_type": "code",
   "execution_count": 18,
   "metadata": {},
   "outputs": [],
   "source": [
    "categorical_transformer = OneHotEncoder(handle_unknown='ignore')"
   ]
  },
  {
   "cell_type": "code",
   "execution_count": 19,
   "metadata": {},
   "outputs": [],
   "source": [
    "feat_ordinal_dict = {\n",
    "    \"country_of_citizenship\": ['Indonesia', 'Tajikistan', 'Faroe Islands', 'Moldova', 'Belarus', 'Montserrat', 'Uganda', 'Northern Ireland', 'Peru', 'Azerbaijan', 'Curacao', 'Costa Rica', 'Ireland', 'Iceland', 'Mozambique', 'Congo', 'Sierra Leone', 'Grenada', 'Finland', 'Panama', 'Guadeloupe', 'South Africa', 'Iraq', 'Chad', 'Tunisia', 'Angola', 'Venezuela', 'Greece', 'Australia', 'North Macedonia', 'Tanzania', 'Cape Verde', 'Slovakia', 'Scotland', 'Palestine', 'Luxembourg', 'Ukraine', 'Latvia', 'Jordan', 'Martinique', 'Comoros', 'Russia', 'Romania', 'Honduras', 'Turkey', 'Montenegro', 'Zimbabwe', 'Ecuador', 'Chile', 'Bosnia-Herzegovina', 'The Gambia', 'Denmark', 'Dominican Republic', 'Kosovo', 'Mali', 'Guinea', 'Mauritania', 'New Zealand', 'Guinea-Bissau', 'Uzbekistan', 'Armenia', 'Netherlands', 'Japan', 'Morocco', 'Gabon', 'Ghana', 'Slovenia', 'Togo', 'Philippines', 'Israel', 'Switzerland', 'Trinidad and Tobago', 'Kazakhstan', 'Austria', 'Suriname', 'Cameroon', 'Burkina Faso', 'Algeria', 'Paraguay', 'Belgium', 'Iran', 'Benin', 'Senegal', 'DR Congo', 'Sweden', 'Serbia', 'Wales', 'Croatia', 'Jamaica', 'Spain', 'Albania', 'Nigeria', 'Zambia', 'Portugal', 'Uruguay', 'Italy', 'United States', \"Cote d'Ivoire\", 'Germany', 'Colombia', 'Poland', 'Argentina', 'France', 'Canada', 'Brazil', 'Norway', 'Mexico', 'Hungary', 'Georgia', 'Czech Republic', 'Korea, South', 'England', 'Egypt'],\n",
    "    \"current_club_name\":['Fk Minaj', 'Pfk Lviv', 'Gaziantep Fk', 'Ingulets Petrove', 'Kryvbas Kryvyi Rig', 'Metal Kharkiv', 'Nk Veres Rivne', 'Metalist 1925 Kharkiv', 'Chornomorets Odessa', 'Motherwell Fc', 'Dundee United Fc', 'Pas Lamia 1964', 'Pas Giannina', 'Lyngby Bk', 'Kilmarnock Fc', 'Rukh Lviv', 'Fk Oleksandriya', 'Ac Horsens', 'Kolos Kovalivka', 'Asteras Tripolis', 'Aberdeen Fc', 'Ross County Fc', 'St Mirren Fc', 'Go Ahead Eagles Deventer', 'St Johnstone Fc', 'Livingston Fc', 'Viborg Ff', 'Fakel Voronezh', 'Fc Volendam', 'Volos Nps', 'Ionikos Nikeas', 'Ofi Kreta', 'Torpedo Moskau', 'Istanbulspor', 'Fc Emmen', 'Apo Levadiakos', 'Panetolikos Gfs', 'Odense Boldklub', 'Rfc Seraing', 'Zorya Lugansk', 'Portimonense Sc', 'Sbv Excelsior Rotterdam', 'Gd Chaves', 'Heart Of Midlothian Fc', 'Vorskla Poltava', 'Aarhus Gf', 'Rio Ave Fc', 'Sv Zulte Waregem', 'Vv St Truiden', 'Fk Nizhny Novgorod', 'Umraniyespor', 'Sparta Rotterdam', 'Aalborg Bk', 'Boavista Porto Fc', 'Silkeborg If', 'Randers Fc', 'Kv Oostende', 'Ural Ekaterinburg', 'Fc Pacos De Ferreira', 'Fc Vizela', 'Casa Pia Ac', 'Rkc Waalwijk', 'Kas Eupen', 'Fc Arouca', 'Sc Cambuur Leeuwarden', 'Nec Nijmegen', 'Atromitos Athen', 'Fk Orenburg', 'Fk Sochi', 'Kv Kortrijk', 'Cd Santa Clara', 'Cs Maritimo', 'Fk Khimki', 'Hibernian Fc', 'Ac Ajaccio', 'Gd Estoril Praia', 'Fc Famalicao', 'Fortuna Sittard', 'Kvc Westerlo', 'Akhmat Grozny', 'Giresunspor', 'Mke Ankaragucu', 'Kv Mechelen', 'Kayserispor', 'Brondby If', 'Vitoria Guimaraes Sc', 'Sivasspor', 'Fc Twente Enschede', 'Fatih Karagumruk', 'Vitesse Arnheim', 'Sc Heerenveen', 'Cercle Brugge', 'Hatayspor', 'Dynamo Kiew', 'Alanyaspor', 'Kasimpasa', 'Krylya Sovetov Samara', 'Fc Midtjylland', 'Aj Auxerre', 'Aris Thessaloniki', 'Fk Rostov', 'Fc Nordsjaelland', 'Gil Vicente Fc', 'Fc Utrecht', 'Adana Demirspor', 'Antalyaspor', 'Aek Athen', 'Oud Heverlee Leuven', 'Fc Schalke 04', 'Konyaspor', 'Paok Thessaloniki', 'Clermont Foot 63', 'Sco Angers', 'Standard Luttich', 'Fc Groningen', 'Vfl Bochum', 'Rsc Charleroi', 'Shakhtar Donetsk', 'Istanbul Basaksehir Fk', 'Sampdoria Genua', 'Hellas Verona', 'Fc Cadiz', 'Us Cremonese', '1 Fc Koln', 'Fc Toulouse', 'Sk Dnipro 1', 'Panathinaikos Athen', 'Royale Union Saint Gilloise', 'Kaa Gent', 'Krc Genk', 'Rc Strassburg Alsace', 'Fk Krasnodar', 'Stade Brest 29', 'Spezia Calcio', 'Fc Elche', 'Us Lecce', 'Vfb Stuttgart', 'Fc Empoli', 'Fc Kopenhagen', 'Lokomotiv Moskau', 'Hertha Bsc', 'Olympiakos Piraus', 'Real Valladolid', 'Es Troyes Ac', 'Royal Antwerpen Fc', 'Sv Werder Bremen', 'Fc Augsburg', 'Az Alkmaar', 'Rcd Mallorca', 'Stade Reims', 'Zska Moskau', 'Rsc Anderlecht', 'Spartak Moskau', 'Fc Lorient', '1 Fsv Mainz 05', 'Rayo Vallecano', 'Ud Almeria', 'Espanyol Barcelona', 'Ac Monza', '1 Fc Union Berlin', 'Feyenoord Rotterdam', 'Dinamo Moskau', 'Glasgow Rangers', 'Celtic Glasgow', 'Fc Girona', 'Montpellier Hsc', 'Brighton Amp Hove Albion', 'Rc Lens', 'Ca Osasuna', 'Celta Vigo', 'Fc Nantes', 'Udinese Calcio', 'Fc Bologna', 'Sc Braga', 'Trabzonspor', 'Us Salernitana 1919', 'Besiktas Istanbul', 'Tsg 1899 Hoffenheim', 'Zenit St Petersburg', 'Psv Eindhoven', 'Fenerbahce Istanbul', 'Fc Getafe', 'Fc Turin', 'Vfl Wolfsburg', 'Borussia Monchengladbach', 'Sc Freiburg', 'Fc Brugge', 'Fc Valencia', 'Galatasaray Istanbul', 'Olympique Lyon', 'Afc Bournemouth', 'Us Sassuolo', 'Lazio Rom', 'Sporting Lissabon', 'Nottingham Forest', 'Fc Porto', 'Olympique Marseille', 'Fc Sevilla', 'Ac Florenz', 'Ogc Nizza', 'Fc Fulham', 'As Monaco', 'Fc Southampton', 'Athletic Bilbao', 'Ajax Amsterdam', 'Losc Lille', 'Real Betis Sevilla', 'Leeds United', 'Real Sociedad San Sebastian', 'Atalanta Bergamo', 'Wolverhampton Wanderers', 'Fc Everton', 'Eintracht Frankfurt', 'Benfica Lissabon', 'Ac Mailand', 'As Rom', 'Fc Brentford', 'Crystal Palace', 'Borussia Dortmund', 'Fc Stade Rennes', 'Fc Villarreal', 'Juventus Turin', 'Newcastle United', 'Aston Villa', 'West Ham United', 'Leicester City', 'Bayer 04 Leverkusen', 'Rasenballsport Leipzig', 'Atletico Madrid', 'Ssc Neapel', 'Inter Mailand', 'Manchester United', 'Fc Chelsea', 'Real Madrid', 'Fc Bayern Munchen', 'Fc Arsenal', 'Fc Barcelona', 'Tottenham Hotspur', 'Fc Liverpool', 'Fc Paris Saint Germain', 'Manchester City'],\n",
    "    \"current_club_domestic_competition_id\": ['UKR1', 'DK1', 'GR1', 'SC1', 'BE1', 'RU1', 'NL1', 'TR1', 'PO1', 'FR1', 'L1', 'IT1', 'ES1', 'GB1'],\n",
    "}\n",
    "    \n",
    "feat_ordinal = sorted(feat_ordinal_dict.keys())\n",
    "feat_ordinal_values_sorted = [feat_ordinal_dict[i] for i in feat_ordinal]\n",
    "    \n",
    "ordinal_transformer = OrdinalEncoder(\n",
    "    categories=feat_ordinal_values_sorted,\n",
    " #   handle_unknown=\"use_encoded_value\",\n",
    "  #  unknown_value=-1  # Considers unknown values as worse than \"missing\"\n",
    ")\n",
    "\n",
    "\n"
   ]
  },
  {
   "cell_type": "code",
   "execution_count": 20,
   "metadata": {},
   "outputs": [],
   "source": [
    "transformer = ColumnTransformer([\n",
    "    ('num_tr', numerical_transformer, numerical_features),\n",
    "    ('cat_tr', categorical_transformer, categorical_features),\n",
    "    ('ord_tr', ordinal_transformer, ordinal_features)\n",
    "\n",
    "])"
   ]
  },
  {
   "cell_type": "code",
   "execution_count": 21,
   "metadata": {},
   "outputs": [
    {
     "data": {
      "text/html": [
       "<style>#sk-container-id-2 {color: black;background-color: white;}#sk-container-id-2 pre{padding: 0;}#sk-container-id-2 div.sk-toggleable {background-color: white;}#sk-container-id-2 label.sk-toggleable__label {cursor: pointer;display: block;width: 100%;margin-bottom: 0;padding: 0.3em;box-sizing: border-box;text-align: center;}#sk-container-id-2 label.sk-toggleable__label-arrow:before {content: \"▸\";float: left;margin-right: 0.25em;color: #696969;}#sk-container-id-2 label.sk-toggleable__label-arrow:hover:before {color: black;}#sk-container-id-2 div.sk-estimator:hover label.sk-toggleable__label-arrow:before {color: black;}#sk-container-id-2 div.sk-toggleable__content {max-height: 0;max-width: 0;overflow: hidden;text-align: left;background-color: #f0f8ff;}#sk-container-id-2 div.sk-toggleable__content pre {margin: 0.2em;color: black;border-radius: 0.25em;background-color: #f0f8ff;}#sk-container-id-2 input.sk-toggleable__control:checked~div.sk-toggleable__content {max-height: 200px;max-width: 100%;overflow: auto;}#sk-container-id-2 input.sk-toggleable__control:checked~label.sk-toggleable__label-arrow:before {content: \"▾\";}#sk-container-id-2 div.sk-estimator input.sk-toggleable__control:checked~label.sk-toggleable__label {background-color: #d4ebff;}#sk-container-id-2 div.sk-label input.sk-toggleable__control:checked~label.sk-toggleable__label {background-color: #d4ebff;}#sk-container-id-2 input.sk-hidden--visually {border: 0;clip: rect(1px 1px 1px 1px);clip: rect(1px, 1px, 1px, 1px);height: 1px;margin: -1px;overflow: hidden;padding: 0;position: absolute;width: 1px;}#sk-container-id-2 div.sk-estimator {font-family: monospace;background-color: #f0f8ff;border: 1px dotted black;border-radius: 0.25em;box-sizing: border-box;margin-bottom: 0.5em;}#sk-container-id-2 div.sk-estimator:hover {background-color: #d4ebff;}#sk-container-id-2 div.sk-parallel-item::after {content: \"\";width: 100%;border-bottom: 1px solid gray;flex-grow: 1;}#sk-container-id-2 div.sk-label:hover label.sk-toggleable__label {background-color: #d4ebff;}#sk-container-id-2 div.sk-serial::before {content: \"\";position: absolute;border-left: 1px solid gray;box-sizing: border-box;top: 0;bottom: 0;left: 50%;z-index: 0;}#sk-container-id-2 div.sk-serial {display: flex;flex-direction: column;align-items: center;background-color: white;padding-right: 0.2em;padding-left: 0.2em;position: relative;}#sk-container-id-2 div.sk-item {position: relative;z-index: 1;}#sk-container-id-2 div.sk-parallel {display: flex;align-items: stretch;justify-content: center;background-color: white;position: relative;}#sk-container-id-2 div.sk-item::before, #sk-container-id-2 div.sk-parallel-item::before {content: \"\";position: absolute;border-left: 1px solid gray;box-sizing: border-box;top: 0;bottom: 0;left: 50%;z-index: -1;}#sk-container-id-2 div.sk-parallel-item {display: flex;flex-direction: column;z-index: 1;position: relative;background-color: white;}#sk-container-id-2 div.sk-parallel-item:first-child::after {align-self: flex-end;width: 50%;}#sk-container-id-2 div.sk-parallel-item:last-child::after {align-self: flex-start;width: 50%;}#sk-container-id-2 div.sk-parallel-item:only-child::after {width: 0;}#sk-container-id-2 div.sk-dashed-wrapped {border: 1px dashed gray;margin: 0 0.4em 0.5em 0.4em;box-sizing: border-box;padding-bottom: 0.4em;background-color: white;}#sk-container-id-2 div.sk-label label {font-family: monospace;font-weight: bold;display: inline-block;line-height: 1.2em;}#sk-container-id-2 div.sk-label-container {text-align: center;}#sk-container-id-2 div.sk-container {/* jupyter's `normalize.less` sets `[hidden] { display: none; }` but bootstrap.min.css set `[hidden] { display: none !important; }` so we also need the `!important` here to be able to override the default hidden behavior on the sphinx rendered scikit-learn.org. See: https://github.com/scikit-learn/scikit-learn/issues/21755 */display: inline-block !important;position: relative;}#sk-container-id-2 div.sk-text-repr-fallback {display: none;}</style><div id=\"sk-container-id-2\" class=\"sk-top-container\"><div class=\"sk-text-repr-fallback\"><pre>ColumnTransformer(transformers=[(&#x27;num_tr&#x27;, MinMaxScaler(),\n",
       "                                 [&#x27;games_2022&#x27;, &#x27;minutes_played_2022&#x27;,\n",
       "                                  &#x27;goals_2022&#x27;, &#x27;assists_2022&#x27;,\n",
       "                                  &#x27;goals_against_2022&#x27;, &#x27;goals_for_2022&#x27;,\n",
       "                                  &#x27;clean_sheet_2022&#x27;, &#x27;height_in_cm&#x27;, &#x27;age&#x27;,\n",
       "                                  &#x27;club_value&#x27;, &#x27;squad_size&#x27;,\n",
       "                                  &#x27;term_days_remaining&#x27;, &#x27;value_goals_for_2022&#x27;,\n",
       "                                  &#x27;yellow_cards_2022&#x27;, &#x27;red_cards_2022&#x27;]),\n",
       "                                (&#x27;cat_tr&#x27;,\n",
       "                                 OneHotEncoder(handle_unknown=&#x27;i...\n",
       "                                                             &#x27;Pas Giannina&#x27;,\n",
       "                                                             &#x27;Lyngby Bk&#x27;,\n",
       "                                                             &#x27;Kilmarnock Fc&#x27;,\n",
       "                                                             &#x27;Rukh Lviv&#x27;,\n",
       "                                                             &#x27;Fk Oleksandriya&#x27;,\n",
       "                                                             &#x27;Ac Horsens&#x27;,\n",
       "                                                             &#x27;Kolos Kovalivka&#x27;,\n",
       "                                                             &#x27;Asteras Tripolis&#x27;,\n",
       "                                                             &#x27;Aberdeen Fc&#x27;,\n",
       "                                                             &#x27;Ross County Fc&#x27;,\n",
       "                                                             &#x27;St Mirren Fc&#x27;,\n",
       "                                                             &#x27;Go Ahead Eagles &#x27;\n",
       "                                                             &#x27;Deventer&#x27;,\n",
       "                                                             &#x27;St Johnstone Fc&#x27;,\n",
       "                                                             &#x27;Livingston Fc&#x27;,\n",
       "                                                             &#x27;Viborg Ff&#x27;,\n",
       "                                                             &#x27;Fakel Voronezh&#x27;,\n",
       "                                                             &#x27;Fc Volendam&#x27;,\n",
       "                                                             &#x27;Volos Nps&#x27;, ...]]),\n",
       "                                 [&#x27;country_of_citizenship&#x27;,\n",
       "                                  &#x27;current_club_domestic_competition_id&#x27;,\n",
       "                                  &#x27;current_club_name&#x27;])])</pre><b>In a Jupyter environment, please rerun this cell to show the HTML representation or trust the notebook. <br />On GitHub, the HTML representation is unable to render, please try loading this page with nbviewer.org.</b></div><div class=\"sk-container\" hidden><div class=\"sk-item sk-dashed-wrapped\"><div class=\"sk-label-container\"><div class=\"sk-label sk-toggleable\"><input class=\"sk-toggleable__control sk-hidden--visually\" id=\"sk-estimator-id-8\" type=\"checkbox\" ><label for=\"sk-estimator-id-8\" class=\"sk-toggleable__label sk-toggleable__label-arrow\">ColumnTransformer</label><div class=\"sk-toggleable__content\"><pre>ColumnTransformer(transformers=[(&#x27;num_tr&#x27;, MinMaxScaler(),\n",
       "                                 [&#x27;games_2022&#x27;, &#x27;minutes_played_2022&#x27;,\n",
       "                                  &#x27;goals_2022&#x27;, &#x27;assists_2022&#x27;,\n",
       "                                  &#x27;goals_against_2022&#x27;, &#x27;goals_for_2022&#x27;,\n",
       "                                  &#x27;clean_sheet_2022&#x27;, &#x27;height_in_cm&#x27;, &#x27;age&#x27;,\n",
       "                                  &#x27;club_value&#x27;, &#x27;squad_size&#x27;,\n",
       "                                  &#x27;term_days_remaining&#x27;, &#x27;value_goals_for_2022&#x27;,\n",
       "                                  &#x27;yellow_cards_2022&#x27;, &#x27;red_cards_2022&#x27;]),\n",
       "                                (&#x27;cat_tr&#x27;,\n",
       "                                 OneHotEncoder(handle_unknown=&#x27;i...\n",
       "                                                             &#x27;Pas Giannina&#x27;,\n",
       "                                                             &#x27;Lyngby Bk&#x27;,\n",
       "                                                             &#x27;Kilmarnock Fc&#x27;,\n",
       "                                                             &#x27;Rukh Lviv&#x27;,\n",
       "                                                             &#x27;Fk Oleksandriya&#x27;,\n",
       "                                                             &#x27;Ac Horsens&#x27;,\n",
       "                                                             &#x27;Kolos Kovalivka&#x27;,\n",
       "                                                             &#x27;Asteras Tripolis&#x27;,\n",
       "                                                             &#x27;Aberdeen Fc&#x27;,\n",
       "                                                             &#x27;Ross County Fc&#x27;,\n",
       "                                                             &#x27;St Mirren Fc&#x27;,\n",
       "                                                             &#x27;Go Ahead Eagles &#x27;\n",
       "                                                             &#x27;Deventer&#x27;,\n",
       "                                                             &#x27;St Johnstone Fc&#x27;,\n",
       "                                                             &#x27;Livingston Fc&#x27;,\n",
       "                                                             &#x27;Viborg Ff&#x27;,\n",
       "                                                             &#x27;Fakel Voronezh&#x27;,\n",
       "                                                             &#x27;Fc Volendam&#x27;,\n",
       "                                                             &#x27;Volos Nps&#x27;, ...]]),\n",
       "                                 [&#x27;country_of_citizenship&#x27;,\n",
       "                                  &#x27;current_club_domestic_competition_id&#x27;,\n",
       "                                  &#x27;current_club_name&#x27;])])</pre></div></div></div><div class=\"sk-parallel\"><div class=\"sk-parallel-item\"><div class=\"sk-item\"><div class=\"sk-label-container\"><div class=\"sk-label sk-toggleable\"><input class=\"sk-toggleable__control sk-hidden--visually\" id=\"sk-estimator-id-9\" type=\"checkbox\" ><label for=\"sk-estimator-id-9\" class=\"sk-toggleable__label sk-toggleable__label-arrow\">num_tr</label><div class=\"sk-toggleable__content\"><pre>[&#x27;games_2022&#x27;, &#x27;minutes_played_2022&#x27;, &#x27;goals_2022&#x27;, &#x27;assists_2022&#x27;, &#x27;goals_against_2022&#x27;, &#x27;goals_for_2022&#x27;, &#x27;clean_sheet_2022&#x27;, &#x27;height_in_cm&#x27;, &#x27;age&#x27;, &#x27;club_value&#x27;, &#x27;squad_size&#x27;, &#x27;term_days_remaining&#x27;, &#x27;value_goals_for_2022&#x27;, &#x27;yellow_cards_2022&#x27;, &#x27;red_cards_2022&#x27;]</pre></div></div></div><div class=\"sk-serial\"><div class=\"sk-item\"><div class=\"sk-estimator sk-toggleable\"><input class=\"sk-toggleable__control sk-hidden--visually\" id=\"sk-estimator-id-10\" type=\"checkbox\" ><label for=\"sk-estimator-id-10\" class=\"sk-toggleable__label sk-toggleable__label-arrow\">MinMaxScaler</label><div class=\"sk-toggleable__content\"><pre>MinMaxScaler()</pre></div></div></div></div></div></div><div class=\"sk-parallel-item\"><div class=\"sk-item\"><div class=\"sk-label-container\"><div class=\"sk-label sk-toggleable\"><input class=\"sk-toggleable__control sk-hidden--visually\" id=\"sk-estimator-id-11\" type=\"checkbox\" ><label for=\"sk-estimator-id-11\" class=\"sk-toggleable__label sk-toggleable__label-arrow\">cat_tr</label><div class=\"sk-toggleable__content\"><pre>[&#x27;sub_position&#x27;, &#x27;foot&#x27;]</pre></div></div></div><div class=\"sk-serial\"><div class=\"sk-item\"><div class=\"sk-estimator sk-toggleable\"><input class=\"sk-toggleable__control sk-hidden--visually\" id=\"sk-estimator-id-12\" type=\"checkbox\" ><label for=\"sk-estimator-id-12\" class=\"sk-toggleable__label sk-toggleable__label-arrow\">OneHotEncoder</label><div class=\"sk-toggleable__content\"><pre>OneHotEncoder(handle_unknown=&#x27;ignore&#x27;)</pre></div></div></div></div></div></div><div class=\"sk-parallel-item\"><div class=\"sk-item\"><div class=\"sk-label-container\"><div class=\"sk-label sk-toggleable\"><input class=\"sk-toggleable__control sk-hidden--visually\" id=\"sk-estimator-id-13\" type=\"checkbox\" ><label for=\"sk-estimator-id-13\" class=\"sk-toggleable__label sk-toggleable__label-arrow\">ord_tr</label><div class=\"sk-toggleable__content\"><pre>[&#x27;country_of_citizenship&#x27;, &#x27;current_club_domestic_competition_id&#x27;, &#x27;current_club_name&#x27;]</pre></div></div></div><div class=\"sk-serial\"><div class=\"sk-item\"><div class=\"sk-estimator sk-toggleable\"><input class=\"sk-toggleable__control sk-hidden--visually\" id=\"sk-estimator-id-14\" type=\"checkbox\" ><label for=\"sk-estimator-id-14\" class=\"sk-toggleable__label sk-toggleable__label-arrow\">OrdinalEncoder</label><div class=\"sk-toggleable__content\"><pre>OrdinalEncoder(categories=[[&#x27;Indonesia&#x27;, &#x27;Tajikistan&#x27;, &#x27;Faroe Islands&#x27;,\n",
       "                            &#x27;Moldova&#x27;, &#x27;Belarus&#x27;, &#x27;Montserrat&#x27;, &#x27;Uganda&#x27;,\n",
       "                            &#x27;Northern Ireland&#x27;, &#x27;Peru&#x27;, &#x27;Azerbaijan&#x27;, &#x27;Curacao&#x27;,\n",
       "                            &#x27;Costa Rica&#x27;, &#x27;Ireland&#x27;, &#x27;Iceland&#x27;, &#x27;Mozambique&#x27;,\n",
       "                            &#x27;Congo&#x27;, &#x27;Sierra Leone&#x27;, &#x27;Grenada&#x27;, &#x27;Finland&#x27;,\n",
       "                            &#x27;Panama&#x27;, &#x27;Guadeloupe&#x27;, &#x27;South Africa&#x27;, &#x27;Iraq&#x27;,\n",
       "                            &#x27;Chad&#x27;, &#x27;Tunisia&#x27;, &#x27;Angola&#x27;, &#x27;Venezuela&#x27;, &#x27;Greece&#x27;,\n",
       "                            &#x27;Australia&#x27;, &#x27;No...\n",
       "                            &#x27;Metalist 1925 Kharkiv&#x27;, &#x27;Chornomorets Odessa&#x27;,\n",
       "                            &#x27;Motherwell Fc&#x27;, &#x27;Dundee United Fc&#x27;,\n",
       "                            &#x27;Pas Lamia 1964&#x27;, &#x27;Pas Giannina&#x27;, &#x27;Lyngby Bk&#x27;,\n",
       "                            &#x27;Kilmarnock Fc&#x27;, &#x27;Rukh Lviv&#x27;, &#x27;Fk Oleksandriya&#x27;,\n",
       "                            &#x27;Ac Horsens&#x27;, &#x27;Kolos Kovalivka&#x27;, &#x27;Asteras Tripolis&#x27;,\n",
       "                            &#x27;Aberdeen Fc&#x27;, &#x27;Ross County Fc&#x27;, &#x27;St Mirren Fc&#x27;,\n",
       "                            &#x27;Go Ahead Eagles Deventer&#x27;, &#x27;St Johnstone Fc&#x27;,\n",
       "                            &#x27;Livingston Fc&#x27;, &#x27;Viborg Ff&#x27;, &#x27;Fakel Voronezh&#x27;,\n",
       "                            &#x27;Fc Volendam&#x27;, &#x27;Volos Nps&#x27;, ...]])</pre></div></div></div></div></div></div></div></div></div></div>"
      ],
      "text/plain": [
       "ColumnTransformer(transformers=[('num_tr', MinMaxScaler(),\n",
       "                                 ['games_2022', 'minutes_played_2022',\n",
       "                                  'goals_2022', 'assists_2022',\n",
       "                                  'goals_against_2022', 'goals_for_2022',\n",
       "                                  'clean_sheet_2022', 'height_in_cm', 'age',\n",
       "                                  'club_value', 'squad_size',\n",
       "                                  'term_days_remaining', 'value_goals_for_2022',\n",
       "                                  'yellow_cards_2022', 'red_cards_2022']),\n",
       "                                ('cat_tr',\n",
       "                                 OneHotEncoder(handle_unknown='i...\n",
       "                                                             'Pas Giannina',\n",
       "                                                             'Lyngby Bk',\n",
       "                                                             'Kilmarnock Fc',\n",
       "                                                             'Rukh Lviv',\n",
       "                                                             'Fk Oleksandriya',\n",
       "                                                             'Ac Horsens',\n",
       "                                                             'Kolos Kovalivka',\n",
       "                                                             'Asteras Tripolis',\n",
       "                                                             'Aberdeen Fc',\n",
       "                                                             'Ross County Fc',\n",
       "                                                             'St Mirren Fc',\n",
       "                                                             'Go Ahead Eagles '\n",
       "                                                             'Deventer',\n",
       "                                                             'St Johnstone Fc',\n",
       "                                                             'Livingston Fc',\n",
       "                                                             'Viborg Ff',\n",
       "                                                             'Fakel Voronezh',\n",
       "                                                             'Fc Volendam',\n",
       "                                                             'Volos Nps', ...]]),\n",
       "                                 ['country_of_citizenship',\n",
       "                                  'current_club_domestic_competition_id',\n",
       "                                  'current_club_name'])])"
      ]
     },
     "execution_count": 21,
     "metadata": {},
     "output_type": "execute_result"
    }
   ],
   "source": [
    "transformer.fit(df)"
   ]
  },
  {
   "cell_type": "code",
   "execution_count": 24,
   "metadata": {},
   "outputs": [],
   "source": [
    "transformed_df = transformer.transform(df)"
   ]
  },
  {
   "cell_type": "code",
   "execution_count": 27,
   "metadata": {},
   "outputs": [
    {
     "data": {
      "text/plain": [
       "(2085, 28)"
      ]
     },
     "execution_count": 27,
     "metadata": {},
     "output_type": "execute_result"
    }
   ],
   "source": [
    "transformed_df.shape"
   ]
  },
  {
   "cell_type": "code",
   "execution_count": 32,
   "metadata": {},
   "outputs": [
    {
     "data": {
      "text/html": [
       "<div>\n",
       "<style scoped>\n",
       "    .dataframe tbody tr th:only-of-type {\n",
       "        vertical-align: middle;\n",
       "    }\n",
       "\n",
       "    .dataframe tbody tr th {\n",
       "        vertical-align: top;\n",
       "    }\n",
       "\n",
       "    .dataframe thead th {\n",
       "        text-align: right;\n",
       "    }\n",
       "</style>\n",
       "<table border=\"1\" class=\"dataframe\">\n",
       "  <thead>\n",
       "    <tr style=\"text-align: right;\">\n",
       "      <th></th>\n",
       "      <th>num_tr__games_2022</th>\n",
       "      <th>num_tr__minutes_played_2022</th>\n",
       "      <th>num_tr__goals_2022</th>\n",
       "      <th>num_tr__assists_2022</th>\n",
       "      <th>num_tr__goals_against_2022</th>\n",
       "      <th>num_tr__goals_for_2022</th>\n",
       "      <th>num_tr__clean_sheet_2022</th>\n",
       "      <th>num_tr__height_in_cm</th>\n",
       "      <th>num_tr__age</th>\n",
       "      <th>num_tr__club_value</th>\n",
       "      <th>...</th>\n",
       "      <th>cat_tr__sub_position_Right Winger</th>\n",
       "      <th>cat_tr__sub_position_Second Striker</th>\n",
       "      <th>cat_tr__sub_position_nan</th>\n",
       "      <th>cat_tr__foot_Both</th>\n",
       "      <th>cat_tr__foot_Left</th>\n",
       "      <th>cat_tr__foot_Right</th>\n",
       "      <th>cat_tr__foot_nan</th>\n",
       "      <th>ord_tr__country_of_citizenship</th>\n",
       "      <th>ord_tr__current_club_domestic_competition_id</th>\n",
       "      <th>ord_tr__current_club_name</th>\n",
       "    </tr>\n",
       "  </thead>\n",
       "  <tbody>\n",
       "    <tr>\n",
       "      <th>0</th>\n",
       "      <td>0.44</td>\n",
       "      <td>0.175263</td>\n",
       "      <td>0.000000</td>\n",
       "      <td>0.000000</td>\n",
       "      <td>0.490196</td>\n",
       "      <td>0.079365</td>\n",
       "      <td>0.000000</td>\n",
       "      <td>0.930693</td>\n",
       "      <td>0.12</td>\n",
       "      <td>0.090909</td>\n",
       "      <td>...</td>\n",
       "      <td>0.0</td>\n",
       "      <td>0.0</td>\n",
       "      <td>0.0</td>\n",
       "      <td>0.0</td>\n",
       "      <td>0.0</td>\n",
       "      <td>1.0</td>\n",
       "      <td>0.0</td>\n",
       "      <td>41.0</td>\n",
       "      <td>5.0</td>\n",
       "      <td>27.0</td>\n",
       "    </tr>\n",
       "    <tr>\n",
       "      <th>1</th>\n",
       "      <td>0.56</td>\n",
       "      <td>0.561127</td>\n",
       "      <td>0.037037</td>\n",
       "      <td>0.066667</td>\n",
       "      <td>0.274510</td>\n",
       "      <td>0.269841</td>\n",
       "      <td>0.416667</td>\n",
       "      <td>0.866337</td>\n",
       "      <td>0.80</td>\n",
       "      <td>0.272727</td>\n",
       "      <td>...</td>\n",
       "      <td>0.0</td>\n",
       "      <td>0.0</td>\n",
       "      <td>0.0</td>\n",
       "      <td>0.0</td>\n",
       "      <td>0.0</td>\n",
       "      <td>1.0</td>\n",
       "      <td>0.0</td>\n",
       "      <td>62.0</td>\n",
       "      <td>4.0</td>\n",
       "      <td>48.0</td>\n",
       "    </tr>\n",
       "    <tr>\n",
       "      <th>2</th>\n",
       "      <td>0.68</td>\n",
       "      <td>0.648042</td>\n",
       "      <td>0.037037</td>\n",
       "      <td>0.066667</td>\n",
       "      <td>0.568627</td>\n",
       "      <td>0.222222</td>\n",
       "      <td>0.250000</td>\n",
       "      <td>0.935644</td>\n",
       "      <td>0.64</td>\n",
       "      <td>0.090909</td>\n",
       "      <td>...</td>\n",
       "      <td>0.0</td>\n",
       "      <td>0.0</td>\n",
       "      <td>0.0</td>\n",
       "      <td>0.0</td>\n",
       "      <td>0.0</td>\n",
       "      <td>1.0</td>\n",
       "      <td>0.0</td>\n",
       "      <td>41.0</td>\n",
       "      <td>5.0</td>\n",
       "      <td>27.0</td>\n",
       "    </tr>\n",
       "    <tr>\n",
       "      <th>3</th>\n",
       "      <td>0.80</td>\n",
       "      <td>0.450812</td>\n",
       "      <td>0.111111</td>\n",
       "      <td>0.133333</td>\n",
       "      <td>0.725490</td>\n",
       "      <td>0.253968</td>\n",
       "      <td>0.250000</td>\n",
       "      <td>0.920792</td>\n",
       "      <td>0.40</td>\n",
       "      <td>0.090909</td>\n",
       "      <td>...</td>\n",
       "      <td>0.0</td>\n",
       "      <td>0.0</td>\n",
       "      <td>0.0</td>\n",
       "      <td>0.0</td>\n",
       "      <td>0.0</td>\n",
       "      <td>1.0</td>\n",
       "      <td>0.0</td>\n",
       "      <td>41.0</td>\n",
       "      <td>5.0</td>\n",
       "      <td>27.0</td>\n",
       "    </tr>\n",
       "    <tr>\n",
       "      <th>4</th>\n",
       "      <td>0.00</td>\n",
       "      <td>0.000000</td>\n",
       "      <td>0.000000</td>\n",
       "      <td>0.000000</td>\n",
       "      <td>0.000000</td>\n",
       "      <td>0.000000</td>\n",
       "      <td>0.000000</td>\n",
       "      <td>0.905941</td>\n",
       "      <td>0.52</td>\n",
       "      <td>0.272727</td>\n",
       "      <td>...</td>\n",
       "      <td>0.0</td>\n",
       "      <td>0.0</td>\n",
       "      <td>0.0</td>\n",
       "      <td>0.0</td>\n",
       "      <td>0.0</td>\n",
       "      <td>1.0</td>\n",
       "      <td>0.0</td>\n",
       "      <td>36.0</td>\n",
       "      <td>4.0</td>\n",
       "      <td>48.0</td>\n",
       "    </tr>\n",
       "  </tbody>\n",
       "</table>\n",
       "<p>5 rows × 28 columns</p>\n",
       "</div>"
      ],
      "text/plain": [
       "   num_tr__games_2022  num_tr__minutes_played_2022  num_tr__goals_2022  \\\n",
       "0                0.44                     0.175263            0.000000   \n",
       "1                0.56                     0.561127            0.037037   \n",
       "2                0.68                     0.648042            0.037037   \n",
       "3                0.80                     0.450812            0.111111   \n",
       "4                0.00                     0.000000            0.000000   \n",
       "\n",
       "   num_tr__assists_2022  num_tr__goals_against_2022  num_tr__goals_for_2022  \\\n",
       "0              0.000000                    0.490196                0.079365   \n",
       "1              0.066667                    0.274510                0.269841   \n",
       "2              0.066667                    0.568627                0.222222   \n",
       "3              0.133333                    0.725490                0.253968   \n",
       "4              0.000000                    0.000000                0.000000   \n",
       "\n",
       "   num_tr__clean_sheet_2022  num_tr__height_in_cm  num_tr__age  \\\n",
       "0                  0.000000              0.930693         0.12   \n",
       "1                  0.416667              0.866337         0.80   \n",
       "2                  0.250000              0.935644         0.64   \n",
       "3                  0.250000              0.920792         0.40   \n",
       "4                  0.000000              0.905941         0.52   \n",
       "\n",
       "   num_tr__club_value  ...  cat_tr__sub_position_Right Winger  \\\n",
       "0            0.090909  ...                                0.0   \n",
       "1            0.272727  ...                                0.0   \n",
       "2            0.090909  ...                                0.0   \n",
       "3            0.090909  ...                                0.0   \n",
       "4            0.272727  ...                                0.0   \n",
       "\n",
       "   cat_tr__sub_position_Second Striker  cat_tr__sub_position_nan  \\\n",
       "0                                  0.0                       0.0   \n",
       "1                                  0.0                       0.0   \n",
       "2                                  0.0                       0.0   \n",
       "3                                  0.0                       0.0   \n",
       "4                                  0.0                       0.0   \n",
       "\n",
       "   cat_tr__foot_Both  cat_tr__foot_Left  cat_tr__foot_Right  cat_tr__foot_nan  \\\n",
       "0                0.0                0.0                 1.0               0.0   \n",
       "1                0.0                0.0                 1.0               0.0   \n",
       "2                0.0                0.0                 1.0               0.0   \n",
       "3                0.0                0.0                 1.0               0.0   \n",
       "4                0.0                0.0                 1.0               0.0   \n",
       "\n",
       "   ord_tr__country_of_citizenship  \\\n",
       "0                            41.0   \n",
       "1                            62.0   \n",
       "2                            41.0   \n",
       "3                            41.0   \n",
       "4                            36.0   \n",
       "\n",
       "   ord_tr__current_club_domestic_competition_id  ord_tr__current_club_name  \n",
       "0                                           5.0                       27.0  \n",
       "1                                           4.0                       48.0  \n",
       "2                                           5.0                       27.0  \n",
       "3                                           5.0                       27.0  \n",
       "4                                           4.0                       48.0  \n",
       "\n",
       "[5 rows x 28 columns]"
      ]
     },
     "execution_count": 32,
     "metadata": {},
     "output_type": "execute_result"
    }
   ],
   "source": [
    "pd.DataFrame(\n",
    "    transformed_df, \n",
    "    columns=transformer.get_feature_names_out()\n",
    ").head()"
   ]
  },
  {
   "cell_type": "code",
   "execution_count": 33,
   "metadata": {},
   "outputs": [],
   "source": [
    "X, y = transformed_df, df[target]"
   ]
  },
  {
   "cell_type": "code",
   "execution_count": 36,
   "metadata": {},
   "outputs": [],
   "source": [
    "gbr = GradientBoostingRegressor(random_state=0, verbose = 0)\n"
   ]
  },
  {
   "cell_type": "code",
   "execution_count": 37,
   "metadata": {},
   "outputs": [],
   "source": [
    "results = cross_validate (gbr, X, y)"
   ]
  },
  {
   "cell_type": "code",
   "execution_count": 38,
   "metadata": {},
   "outputs": [
    {
     "data": {
      "text/plain": [
       "{'fit_time': array([0.45774174, 0.49865603, 0.46537495, 0.47438908, 0.44382882]),\n",
       " 'score_time': array([0.00336814, 0.00190616, 0.00181198, 0.00208926, 0.00259995]),\n",
       " 'test_score': array([0.78590607, 0.57591925, 0.74314818, 0.72069637, 0.72836504])}"
      ]
     },
     "execution_count": 38,
     "metadata": {},
     "output_type": "execute_result"
    }
   ],
   "source": [
    "results"
   ]
  },
  {
   "cell_type": "code",
   "execution_count": 47,
   "metadata": {},
   "outputs": [
    {
     "data": {
      "text/plain": [
       "0.7108069826642252"
      ]
     },
     "execution_count": 47,
     "metadata": {},
     "output_type": "execute_result"
    }
   ],
   "source": [
    "mean_score = np.mean(results['test_score'])\n",
    "mean_score"
   ]
  },
  {
   "cell_type": "code",
   "execution_count": 40,
   "metadata": {},
   "outputs": [
    {
     "data": {
      "text/html": [
       "<style>#sk-container-id-3 {color: black;background-color: white;}#sk-container-id-3 pre{padding: 0;}#sk-container-id-3 div.sk-toggleable {background-color: white;}#sk-container-id-3 label.sk-toggleable__label {cursor: pointer;display: block;width: 100%;margin-bottom: 0;padding: 0.3em;box-sizing: border-box;text-align: center;}#sk-container-id-3 label.sk-toggleable__label-arrow:before {content: \"▸\";float: left;margin-right: 0.25em;color: #696969;}#sk-container-id-3 label.sk-toggleable__label-arrow:hover:before {color: black;}#sk-container-id-3 div.sk-estimator:hover label.sk-toggleable__label-arrow:before {color: black;}#sk-container-id-3 div.sk-toggleable__content {max-height: 0;max-width: 0;overflow: hidden;text-align: left;background-color: #f0f8ff;}#sk-container-id-3 div.sk-toggleable__content pre {margin: 0.2em;color: black;border-radius: 0.25em;background-color: #f0f8ff;}#sk-container-id-3 input.sk-toggleable__control:checked~div.sk-toggleable__content {max-height: 200px;max-width: 100%;overflow: auto;}#sk-container-id-3 input.sk-toggleable__control:checked~label.sk-toggleable__label-arrow:before {content: \"▾\";}#sk-container-id-3 div.sk-estimator input.sk-toggleable__control:checked~label.sk-toggleable__label {background-color: #d4ebff;}#sk-container-id-3 div.sk-label input.sk-toggleable__control:checked~label.sk-toggleable__label {background-color: #d4ebff;}#sk-container-id-3 input.sk-hidden--visually {border: 0;clip: rect(1px 1px 1px 1px);clip: rect(1px, 1px, 1px, 1px);height: 1px;margin: -1px;overflow: hidden;padding: 0;position: absolute;width: 1px;}#sk-container-id-3 div.sk-estimator {font-family: monospace;background-color: #f0f8ff;border: 1px dotted black;border-radius: 0.25em;box-sizing: border-box;margin-bottom: 0.5em;}#sk-container-id-3 div.sk-estimator:hover {background-color: #d4ebff;}#sk-container-id-3 div.sk-parallel-item::after {content: \"\";width: 100%;border-bottom: 1px solid gray;flex-grow: 1;}#sk-container-id-3 div.sk-label:hover label.sk-toggleable__label {background-color: #d4ebff;}#sk-container-id-3 div.sk-serial::before {content: \"\";position: absolute;border-left: 1px solid gray;box-sizing: border-box;top: 0;bottom: 0;left: 50%;z-index: 0;}#sk-container-id-3 div.sk-serial {display: flex;flex-direction: column;align-items: center;background-color: white;padding-right: 0.2em;padding-left: 0.2em;position: relative;}#sk-container-id-3 div.sk-item {position: relative;z-index: 1;}#sk-container-id-3 div.sk-parallel {display: flex;align-items: stretch;justify-content: center;background-color: white;position: relative;}#sk-container-id-3 div.sk-item::before, #sk-container-id-3 div.sk-parallel-item::before {content: \"\";position: absolute;border-left: 1px solid gray;box-sizing: border-box;top: 0;bottom: 0;left: 50%;z-index: -1;}#sk-container-id-3 div.sk-parallel-item {display: flex;flex-direction: column;z-index: 1;position: relative;background-color: white;}#sk-container-id-3 div.sk-parallel-item:first-child::after {align-self: flex-end;width: 50%;}#sk-container-id-3 div.sk-parallel-item:last-child::after {align-self: flex-start;width: 50%;}#sk-container-id-3 div.sk-parallel-item:only-child::after {width: 0;}#sk-container-id-3 div.sk-dashed-wrapped {border: 1px dashed gray;margin: 0 0.4em 0.5em 0.4em;box-sizing: border-box;padding-bottom: 0.4em;background-color: white;}#sk-container-id-3 div.sk-label label {font-family: monospace;font-weight: bold;display: inline-block;line-height: 1.2em;}#sk-container-id-3 div.sk-label-container {text-align: center;}#sk-container-id-3 div.sk-container {/* jupyter's `normalize.less` sets `[hidden] { display: none; }` but bootstrap.min.css set `[hidden] { display: none !important; }` so we also need the `!important` here to be able to override the default hidden behavior on the sphinx rendered scikit-learn.org. See: https://github.com/scikit-learn/scikit-learn/issues/21755 */display: inline-block !important;position: relative;}#sk-container-id-3 div.sk-text-repr-fallback {display: none;}</style><div id=\"sk-container-id-3\" class=\"sk-top-container\"><div class=\"sk-text-repr-fallback\"><pre>GradientBoostingRegressor(random_state=0)</pre><b>In a Jupyter environment, please rerun this cell to show the HTML representation or trust the notebook. <br />On GitHub, the HTML representation is unable to render, please try loading this page with nbviewer.org.</b></div><div class=\"sk-container\" hidden><div class=\"sk-item\"><div class=\"sk-estimator sk-toggleable\"><input class=\"sk-toggleable__control sk-hidden--visually\" id=\"sk-estimator-id-15\" type=\"checkbox\" checked><label for=\"sk-estimator-id-15\" class=\"sk-toggleable__label sk-toggleable__label-arrow\">GradientBoostingRegressor</label><div class=\"sk-toggleable__content\"><pre>GradientBoostingRegressor(random_state=0)</pre></div></div></div></div></div>"
      ],
      "text/plain": [
       "GradientBoostingRegressor(random_state=0)"
      ]
     },
     "execution_count": 40,
     "metadata": {},
     "output_type": "execute_result"
    }
   ],
   "source": [
    "gbr.fit(X, y)"
   ]
  },
  {
   "cell_type": "code",
   "execution_count": 43,
   "metadata": {},
   "outputs": [],
   "source": [
    "# save the model to disk\n",
    "filename = 'gbr_1.sav'\n",
    "pk.dump(gbr, open(filename, 'wb'))"
   ]
  },
  {
   "cell_type": "code",
   "execution_count": 44,
   "metadata": {},
   "outputs": [],
   "source": [
    "# save the pipeline to disk\n",
    "filename = 'transformer_1.sav'\n",
    "pk.dump(transformer, open(filename, 'wb'))"
   ]
  },
  {
   "attachments": {},
   "cell_type": "markdown",
   "metadata": {},
   "source": [
    "We need 20 inputs --> preproc takes care"
   ]
  },
  {
   "cell_type": "code",
   "execution_count": 54,
   "metadata": {},
   "outputs": [],
   "source": [
    "player = pd.DataFrame()"
   ]
  },
  {
   "cell_type": "code",
   "execution_count": null,
   "metadata": {},
   "outputs": [],
   "source": [
    "\"\"\"numerical_features = [ 'games_2022', 'minutes_played_2022', 'goals_2022',\n",
    "       'assists_2022', 'goals_against_2022', 'goals_for_2022',\n",
    "       'clean_sheet_2022', 'height_in_cm', 'age', \n",
    "       'club_value', 'squad_size', 'term_days_remaining',\n",
    "       'value_goals_for_2022', 'yellow_cards_2022', 'red_cards_2022']\n",
    "categorical_features = ['sub_position', 'foot']\n",
    "ordinal_features = ['country_of_citizenship','current_club_domestic_competition_id', 'current_club_name']\n",
    "target = 'market_value_in_eur'\"\"\""
   ]
  },
  {
   "cell_type": "code",
   "execution_count": 55,
   "metadata": {},
   "outputs": [],
   "source": [
    "player['games_2022'] =[20]\n",
    "player['minutes_played_2022'] =[1800] \n",
    "player['goals_2022'] =[200]\n",
    "player['assists_2022'] =[15] \n",
    "player['goals_against_2022'] =[20] \n",
    "player['goals_for_2022'] =[10]\n",
    "player['clean_sheet_2022'] =[7] \n",
    "player['height_in_cm'] =[186] \n",
    "player['age'] =[31] \n",
    "player['club_value'] =[50000000] \n",
    "player['squad_size'] =[18] \n",
    "player['term_days_remaining'] =[200]\n",
    "player['value_goals_for_2022'] =[50000000] \n",
    "player['yellow_cards_2022'] =[2] \n",
    "player['red_cards_2022'] =[0]\n",
    "player['sub_position'] =['Left Winger'] \n",
    "player['foot'] =['Right']\n",
    "player['country_of_citizenship'] =['Italy']\n",
    "player['current_club_domestic_competition_id'] =['IT1'] \n",
    "player['current_club_name'] = ['Juventus Turin']"
   ]
  },
  {
   "cell_type": "code",
   "execution_count": 56,
   "metadata": {},
   "outputs": [
    {
     "data": {
      "text/html": [
       "<div>\n",
       "<style scoped>\n",
       "    .dataframe tbody tr th:only-of-type {\n",
       "        vertical-align: middle;\n",
       "    }\n",
       "\n",
       "    .dataframe tbody tr th {\n",
       "        vertical-align: top;\n",
       "    }\n",
       "\n",
       "    .dataframe thead th {\n",
       "        text-align: right;\n",
       "    }\n",
       "</style>\n",
       "<table border=\"1\" class=\"dataframe\">\n",
       "  <thead>\n",
       "    <tr style=\"text-align: right;\">\n",
       "      <th></th>\n",
       "      <th>games_2022</th>\n",
       "      <th>minutes_played_2022</th>\n",
       "      <th>goals_2022</th>\n",
       "      <th>assists_2022</th>\n",
       "      <th>goals_against_2022</th>\n",
       "      <th>goals_for_2022</th>\n",
       "      <th>clean_sheet_2022</th>\n",
       "      <th>height_in_cm</th>\n",
       "      <th>age</th>\n",
       "      <th>club_value</th>\n",
       "      <th>squad_size</th>\n",
       "      <th>term_days_remaining</th>\n",
       "      <th>value_goals_for_2022</th>\n",
       "      <th>yellow_cards_2022</th>\n",
       "      <th>red_cards_2022</th>\n",
       "      <th>sub_position</th>\n",
       "      <th>foot</th>\n",
       "      <th>country_of_citizenship</th>\n",
       "      <th>current_club_domestic_competition_id</th>\n",
       "      <th>current_club_name</th>\n",
       "    </tr>\n",
       "  </thead>\n",
       "  <tbody>\n",
       "    <tr>\n",
       "      <th>0</th>\n",
       "      <td>20</td>\n",
       "      <td>1800</td>\n",
       "      <td>200</td>\n",
       "      <td>15</td>\n",
       "      <td>20</td>\n",
       "      <td>10</td>\n",
       "      <td>7</td>\n",
       "      <td>186</td>\n",
       "      <td>31</td>\n",
       "      <td>50000000</td>\n",
       "      <td>18</td>\n",
       "      <td>200</td>\n",
       "      <td>50000000</td>\n",
       "      <td>2</td>\n",
       "      <td>0</td>\n",
       "      <td>Left Winger</td>\n",
       "      <td>Right</td>\n",
       "      <td>Italy</td>\n",
       "      <td>IT1</td>\n",
       "      <td>Juventus Turin</td>\n",
       "    </tr>\n",
       "  </tbody>\n",
       "</table>\n",
       "</div>"
      ],
      "text/plain": [
       "   games_2022  minutes_played_2022  goals_2022  assists_2022  \\\n",
       "0          20                 1800         200            15   \n",
       "\n",
       "   goals_against_2022  goals_for_2022  clean_sheet_2022  height_in_cm  age  \\\n",
       "0                  20              10                 7           186   31   \n",
       "\n",
       "   club_value  squad_size  term_days_remaining  value_goals_for_2022  \\\n",
       "0    50000000          18                  200              50000000   \n",
       "\n",
       "   yellow_cards_2022  red_cards_2022 sub_position   foot  \\\n",
       "0                  2               0  Left Winger  Right   \n",
       "\n",
       "  country_of_citizenship current_club_domestic_competition_id  \\\n",
       "0                  Italy                                  IT1   \n",
       "\n",
       "  current_club_name  \n",
       "0    Juventus Turin  "
      ]
     },
     "execution_count": 56,
     "metadata": {},
     "output_type": "execute_result"
    }
   ],
   "source": [
    "player"
   ]
  },
  {
   "cell_type": "code",
   "execution_count": 59,
   "metadata": {},
   "outputs": [],
   "source": [
    "player_transformed = transformer.transform(player)"
   ]
  },
  {
   "cell_type": "code",
   "execution_count": 60,
   "metadata": {},
   "outputs": [],
   "source": [
    "my_value = gbr.predict(player_transformed)"
   ]
  },
  {
   "cell_type": "code",
   "execution_count": 61,
   "metadata": {},
   "outputs": [
    {
     "data": {
      "text/plain": [
       "array([80626632.50546265])"
      ]
     },
     "execution_count": 61,
     "metadata": {},
     "output_type": "execute_result"
    }
   ],
   "source": [
    "my_value"
   ]
  },
  {
   "cell_type": "code",
   "execution_count": null,
   "metadata": {},
   "outputs": [],
   "source": []
  }
 ],
 "metadata": {
  "kernelspec": {
   "display_name": "S4P",
   "language": "python",
   "name": "python3"
  },
  "language_info": {
   "codemirror_mode": {
    "name": "ipython",
    "version": 3
   },
   "file_extension": ".py",
   "mimetype": "text/x-python",
   "name": "python",
   "nbconvert_exporter": "python",
   "pygments_lexer": "ipython3",
   "version": "3.10.6"
  },
  "orig_nbformat": 4
 },
 "nbformat": 4,
 "nbformat_minor": 2
}
