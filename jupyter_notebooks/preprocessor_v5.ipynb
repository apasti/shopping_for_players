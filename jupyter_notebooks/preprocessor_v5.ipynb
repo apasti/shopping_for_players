{
 "cells": [
  {
   "cell_type": "code",
   "execution_count": 1,
   "metadata": {},
   "outputs": [],
   "source": [
    "import pandas as pd\n",
    "import numpy as np\n",
    "import datetime as dt\n",
    "import calendar\n",
    "import datetime\n",
    "from datetime import datetime, timedelta, date\n",
    "import warnings\n",
    "\n",
    "#settings\n",
    "warnings.filterwarnings(\"ignore\")"
   ]
  },
  {
   "cell_type": "code",
   "execution_count": 2,
   "metadata": {},
   "outputs": [],
   "source": [
    "appearances_df = pd.read_csv(\"../raw_data/appearances.csv\")\n",
    "clubs_df = pd.read_csv(\"../raw_data/clubs.csv\")\n",
    "games_df = pd.read_csv(\"../raw_data/games.csv\")\n",
    "players_df = pd.read_csv(\"../raw_data/players.csv\")"
   ]
  },
  {
   "cell_type": "code",
   "execution_count": 3,
   "metadata": {},
   "outputs": [],
   "source": [
    "def players_df_preproc(players_df):\n",
    "    #add year to game valuations\n",
    "    now = datetime.now()\n",
    "    players_df['date_of_birth'] = pd.to_datetime(players_df['date_of_birth'])\n",
    "    players_df = players_df[players_df['date_of_birth'].isnull() == False]\n",
    "    players_df['age'] = (now - players_df['date_of_birth']).apply(lambda x: x.days) / 365.25\n",
    "    players_df['age'] = players_df['age'].round().astype(int) \n",
    "\n",
    "    # Calculate the contract remaining of each player\n",
    "    players_df['contract_expiration_date'] = pd.to_datetime(players_df['contract_expiration_date'])\n",
    "    players_df = players_df[players_df['contract_expiration_date'].isnull() == False]\n",
    "    players_df['term_days_remaining'] = (players_df['contract_expiration_date']- now).apply(lambda x: x.days) \n",
    "    return players_df"
   ]
  },
  {
   "cell_type": "code",
   "execution_count": 4,
   "metadata": {},
   "outputs": [],
   "source": [
    "def appearances_df_preproc(appearances_df):\n",
    "    # add year to player appearances\n",
    "    appearances_df['datetime']=pd.to_datetime(appearances_df['date'], format=\"%Y-%m-%d\")\n",
    "    appearances_df['year']=appearances_df['datetime'].dt.year\n",
    "    appearances_df = appearances_df[(appearances_df.year > 2004 ) & (appearances_df.year < 2023 )]\n",
    "    return appearances_df"
   ]
  },
  {
   "cell_type": "code",
   "execution_count": 5,
   "metadata": {},
   "outputs": [],
   "source": [
    "def games_and_appearances_df_preproc(games_df,appearances_df):\n",
    "    games_df['datetime']=pd.to_datetime(games_df['date'], format=\"%Y-%m-%d\")\n",
    "    games_df['year']=games_df['datetime'].dt.year\n",
    "    games_df = games_df[(games_df.year > 2004 ) & (games_df.year < 2023 )]\n",
    "    games_and_appearances_df = appearances_df.merge(games_df, on=['game_id'], how='left')\n",
    "    return games_and_appearances_df"
   ]
  },
  {
   "cell_type": "code",
   "execution_count": 6,
   "metadata": {},
   "outputs": [],
   "source": [
    "#create a function to collate player stats\n",
    "def player_stats(player_id, season, games_and_appearances_df):\n",
    "    \n",
    "    df = games_and_appearances_df[games_and_appearances_df['player_id'] == player_id]\n",
    "    df =  df[df['season'] == season]    \n",
    "    if (df.shape[0] == 0):\n",
    "        Out = [(np.nan, season,0,0,0,0,0,0,0,0,0)]\n",
    "        out_df = pd.DataFrame(data = Out, columns = ['player_id','season','goals','games',\n",
    "                                                     'assists','minutes_played','goals_for',\n",
    "                                                     'goals_against','clean_sheet',\n",
    "                                                     'yellow_cards','red_cards'])\n",
    "        return out_df    \n",
    "    else:       \n",
    "        df[\"goals_for\"] = df.apply(lambda row: row['home_club_goals'] if row['home_club_id'] == row['player_club_id'] \n",
    "            else row['away_club_goals'] if row['away_club_id'] == row['player_club_id'] \n",
    "            else np.nan, axis=1)\n",
    "        df[\"goals_against\"] = df.apply(lambda row: row['away_club_goals'] if row['home_club_id'] == row['player_club_id'] \n",
    "            else row['home_club_goals'] if row['away_club_id'] == row['player_club_id'] \n",
    "            else np.nan, axis=1)\n",
    "        df['clean_sheet'] = df.apply(lambda row: 1 if row['goals_against'] == 0\n",
    "            else 0 if row['goals_against'] > 0\n",
    "            else np.nan, axis=1)\n",
    "        df = df.groupby(['player_id',\"season\"],as_index=False).agg({'goals': 'sum', 'game_id': 'nunique', \n",
    "                                                                    'assists': 'sum', 'minutes_played' : 'sum', 'goals_for' : 'sum',\n",
    "                                                                    'goals_against' : 'sum', 'clean_sheet' : 'sum','yellow_cards':'sum','red_cards':'sum'})\n",
    "        out_df = df.rename(columns={'game_id': 'games'})\n",
    "        return out_df\n"
   ]
  },
  {
   "cell_type": "code",
   "execution_count": 7,
   "metadata": {},
   "outputs": [],
   "source": [
    "# preprocessing function to return a dataframe\n",
    "def preprocessing(clubs_df,players_df,games_and_appearances_df):\n",
    "    \n",
    "    merged_players_df=players_df.drop(['current_club_id', 'city_of_birth', 'date_of_birth','first_name', 'last_name', 'player_code', 'image_url', 'url'], axis=1)\n",
    "    merged_players_df = merged_players_df.reindex(columns = merged_players_df.columns.tolist() + ['club_value','squad_size','goals','goals_2022','games_2022','assists_2022','minutes_played_2022','goals_against_2022','goals_for_2022','clean_sheet_2022'])\n",
    "    \n",
    "    for player_id in merged_players_df.player_id.unique():\n",
    "        club_id = players_df.current_club_id[(players_df.player_id==player_id)]\n",
    "        try:\n",
    "            merged_players_df.club_value[(players_df.player_id==player_id)]=int(clubs_df.total_market_value[(clubs_df.club_id==int(club_id))])\n",
    "        except:\n",
    "            merged_players_df.club_value[(players_df.player_id==player_id)]='NaN'  \n",
    "        merged_players_df.squad_size[(players_df.player_id==player_id)]=int((clubs_df.squad_size[(clubs_df.club_id==int(club_id))]))\n",
    "\n",
    "    columns=['player_id','games_2022','minutes_played_2022','goals_2022','assists_2022','goals_against_2022','goals_for_2022','clean_sheet_2022','name','position','sub_position','last_season','foot','height_in_cm','age','country_of_citizenship','country_of_birth','current_club_name','club_value','squad_size','current_club_domestic_competition_id','agent_name','contract_expiration_date','term_days_remaining','market_value_in_eur','highest_market_value_in_eur']\n",
    "    merged_players_df=merged_players_df[columns] \n",
    "\n",
    "    #iterate through players\n",
    "    for index in merged_players_df.index:\n",
    "        id = merged_players_df.loc[index][0]\n",
    "        name = merged_players_df.loc[index][1]\n",
    "        \n",
    "        season = 2022\n",
    "        stats = player_stats(id, season, games_and_appearances_df)\n",
    "  \n",
    "        merged_players_df.at[index,'games_{}'.format(season)]= stats['games'][0]\n",
    "        merged_players_df.at[index,'goals_{}'.format(season)]= stats['goals'][0]\n",
    "        merged_players_df.at[index,'assists_{}'.format(season)]= stats['assists'][0]\n",
    "        merged_players_df.at[index,'minutes_played_{}'.format(season)]= stats['minutes_played'][0]\n",
    "        merged_players_df.at[index,'goals_for_{}'.format(season)]= stats['goals_for'][0]\n",
    "        merged_players_df.at[index,'goals_against_{}'.format(season)]= stats['goals_against'][0]\n",
    "        merged_players_df.at[index,'clean_sheet_{}'.format(season)]= stats['clean_sheet'][0]\n",
    "        merged_players_df.at[index,'yellow_cards_{}'.format(season)]= stats['yellow_cards'][0]\n",
    "        merged_players_df.at[index,'red_cards_{}'.format(season)]= stats['red_cards'][0]\n",
    "\n",
    "\n",
    "    #drop nan\n",
    "    merged_players_df1=merged_players_df.dropna(subset=['market_value_in_eur'])\n",
    "    \n",
    "    # convert position categories to Columns for test data\n",
    "    dummies=pd.get_dummies(merged_players_df1[['position']], prefix_sep='_') \n",
    "    merged_players_df1 = pd.concat([merged_players_df1, dummies], axis=1) \n",
    "    dummies=pd.get_dummies(merged_players_df1[['sub_position']], prefix_sep='_') \n",
    "    merged_players_df1 = pd.concat([merged_players_df1, dummies], axis=1) \n",
    "    dummies=pd.get_dummies(merged_players_df1[['foot']], prefix_sep='_') \n",
    "    merged_players_df1 = pd.concat([merged_players_df1, dummies], axis=1) \n",
    "\n",
    "    #separate numeric columns\n",
    "    drop_cols = ['player_id', 'clean_sheet_2022', 'name', 'position', 'sub_position', 'last_season',\n",
    "       'foot', 'country_of_citizenship',\n",
    "       'country_of_birth', 'current_club_name', 'club_value', \n",
    "       'current_club_domestic_competition_id', 'agent_name',\n",
    "       'contract_expiration_date', 'highest_market_value_in_eur']\n",
    "    merged_players_df1 = merged_players_df1.drop(columns=drop_cols)\n",
    "    return merged_players_df1"
   ]
  },
  {
   "cell_type": "code",
   "execution_count": 9,
   "metadata": {},
   "outputs": [],
   "source": [
    "# test above functions\n",
    "\n",
    "players_df = players_df_preproc(players_df)\n",
    "appearances_df = appearances_df_preproc(appearances_df)\n",
    "games_and_appearances_df = games_and_appearances_df_preproc(games_df,appearances_df)\n",
    "df_preprocessed = preprocessing(clubs_df,players_df,games_and_appearances_df)"
   ]
  },
  {
   "cell_type": "code",
   "execution_count": 11,
   "metadata": {},
   "outputs": [
    {
     "data": {
      "text/plain": [
       "9          125000.0\n",
       "10         150000.0\n",
       "11         300000.0\n",
       "19         500000.0\n",
       "28         300000.0\n",
       "            ...    \n",
       "28484      500000.0\n",
       "28485      100000.0\n",
       "28486     1200000.0\n",
       "28487    10000000.0\n",
       "28488     1800000.0\n",
       "Name: market_value_in_eur, Length: 15577, dtype: float64"
      ]
     },
     "execution_count": 11,
     "metadata": {},
     "output_type": "execute_result"
    }
   ],
   "source": [
    "df_preprocessed['market_value_in_eur']"
   ]
  }
 ],
 "metadata": {
  "kernelspec": {
   "display_name": "lewagon",
   "language": "python",
   "name": "python3"
  },
  "language_info": {
   "codemirror_mode": {
    "name": "ipython",
    "version": 3
   },
   "file_extension": ".py",
   "mimetype": "text/x-python",
   "name": "python",
   "nbconvert_exporter": "python",
   "pygments_lexer": "ipython3",
   "version": "3.10.6"
  },
  "orig_nbformat": 4
 },
 "nbformat": 4,
 "nbformat_minor": 2
}
