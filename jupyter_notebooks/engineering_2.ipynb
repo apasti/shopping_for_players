{
 "cells": [
  {
   "cell_type": "code",
   "execution_count": null,
   "metadata": {},
   "outputs": [],
   "source": [
    "import pandas as pd\n",
    "import numpy as np\n",
    "import datetime as dt\n",
    "import datetime\n",
    "from datetime import datetime, timedelta, date\n",
    "import warnings\n",
    "\n",
    "#settings\n",
    "warnings.filterwarnings(\"ignore\")"
   ]
  },
  {
   "cell_type": "code",
   "execution_count": null,
   "metadata": {},
   "outputs": [],
   "source": [
    "appearances_df = pd.read_csv(\"../raw_data/appearances.csv\")\n",
    "clubs_df = pd.read_csv(\"../raw_data/clubs.csv\")\n",
    "games_df = pd.read_csv(\"../raw_data/games.csv\")\n",
    "players_df = pd.read_csv(\"../raw_data/players.csv\")"
   ]
  },
  {
   "cell_type": "code",
   "execution_count": null,
   "metadata": {},
   "outputs": [],
   "source": [
    "players_df = players_df[players_df['last_season']==2022]\n",
    "players_df = players_df[players_df['position']=='Attack']"
   ]
  },
  {
   "cell_type": "code",
   "execution_count": null,
   "metadata": {},
   "outputs": [],
   "source": [
    "players_df.foot.unique()"
   ]
  },
  {
   "cell_type": "code",
   "execution_count": null,
   "metadata": {},
   "outputs": [],
   "source": [
    "def impute_foot(players_df):\n",
    "    #replace both with left and imputes right no nulls\n",
    "    players_df['foot'].replace('Both', 'Left', inplace=True)\n",
    "    players_df['foot'].replace(np.nan, 'Right', inplace=True)\n",
    "    players_df['foot'].fillna('Right')"
   ]
  },
  {
   "cell_type": "code",
   "execution_count": null,
   "metadata": {},
   "outputs": [],
   "source": [
    "clubs_df.total_market_value.isnull()"
   ]
  },
  {
   "cell_type": "code",
   "execution_count": null,
   "metadata": {},
   "outputs": [],
   "source": [
    "def impute_club_value (clubs_df):    \n",
    "    #impute the missing values with the minimum value of the corresponding league \n",
    "    # get the minimum value of the 'Domestic League' column\n",
    "    min_value = clubs_df.groupby('domestic_competition_id')['total_market_value'].min()\n",
    "        \n",
    "    # fill missing values in 'Market Value' column with the minimum value of the 'Domestic League' column\n",
    "    clubs_df['total_market_value'] = clubs_df.apply(lambda x: min_value[x['domestic_competition_id']] if pd.isnull(x['total_market_value']) else x['total_market_value'], axis=1)"
   ]
  },
  {
   "cell_type": "code",
   "execution_count": null,
   "metadata": {},
   "outputs": [],
   "source": []
  },
  {
   "cell_type": "code",
   "execution_count": null,
   "metadata": {},
   "outputs": [],
   "source": [
    "\n",
    "def add_age(players_df):\n",
    "    #add year to game valuations\n",
    "    now = datetime.now()\n",
    "    players_df['date_of_birth'] = pd.to_datetime(players_df['date_of_birth'])\n",
    "    players_df = players_df[players_df['date_of_birth'].isnull() == False]\n",
    "    players_df['age'] = (now - players_df['date_of_birth']).apply(lambda x: x.days) / 365.25\n",
    "    players_df['age'] = players_df['age'].round().astype(int) \n",
    "\n",
    "def add_remaining_days(players_df):\n",
    "    # Calculate the contract remaining of each player\n",
    "    players_df['contract_expiration_date'] = pd.to_datetime(players_df['contract_expiration_date'])\n",
    "    players_df = players_df[players_df['contract_expiration_date'].isnull() == False]\n",
    "    players_df['term_days_remaining'] = (players_df['contract_expiration_date']- now).apply(lambda x: x.days) \n",
    "    return players_df\n",
    "\n",
    "def add_year_appearance(appearances_df):\n",
    "    # add year to player appearances\n",
    "    appearances_df['datetime']=pd.to_datetime(appearances_df['date'], format=\"%Y-%m-%d\")\n",
    "    appearances_df['year']=appearances_df['datetime'].dt.year\n",
    "    appearances_df = appearances_df[(appearances_df.year > 2004 ) & (appearances_df.year < 2023 )]\n",
    "    return appearances_df\n",
    "\"\"\"\n",
    "def games_and_appearances_df_preproc(games_df,appearances_df):\n",
    "    games_df['datetime']=pd.to_datetime(games_df['date'], format=\"%Y-%m-%d\")\n",
    "    games_df['year']=games_df['datetime'].dt.year\n",
    "    games_df = games_df[(games_df.year > 2004 ) & (games_df.year < 2023 )]\n",
    "    games_and_appearances_df = appearances_df.merge(games_df, on=['game_id'], how='left')\n",
    "    return games_and_appearances_df\n",
    "\n",
    "def feature_encode(df,column):\n",
    "    dummies=pd.get_dummies(df[column], prefix_sep='_') \n",
    "    df = pd.concat([df, dummies], axis=1)\n",
    "    return df\n",
    "    \"\"\""
   ]
  },
  {
   "cell_type": "code",
   "execution_count": null,
   "metadata": {},
   "outputs": [],
   "source": [
    "def games_and_appearances_df_preproc(games_df,appearances_df,clubs_df):\n",
    "    games_df['datetime']=pd.to_datetime(games_df['date'], format=\"%Y-%m-%d\")\n",
    "    games_df['year']=games_df['datetime'].dt.year\n",
    "    games_df = games_df[(games_df.year > 2004 ) & (games_df.year < 2023 )]\n",
    "    games_and_appearances_df = appearances_df.merge(games_df, on=['game_id'], how='left')\n",
    "    \n",
    "    table_df = games_and_appearances_df\n",
    "    \n",
    "    # Join the tables on the home and away club IDs\n",
    "    table_df = table_df.merge(clubs_df[['club_id', 'total_market_value']], \n",
    "                            how='left', \n",
    "                            left_on='home_club_id', \n",
    "                            right_on='club_id')\n",
    "\n",
    "    table_df = table_df.merge(clubs_df[['club_id', 'total_market_value']], \n",
    "                            how='left', \n",
    "                            left_on='away_club_id', \n",
    "                            right_on='club_id',\n",
    "                            suffixes=('_home', '_away'))\n",
    "\n",
    "    # Rename the columns to reflect the market value data\n",
    "    table_df = table_df.rename(columns={'market_value_home': 'home_club_market_value',\n",
    "                                        'market_value_away': 'away_club_market_value'})\n",
    "\n",
    "    # Drop the redundant club_id columns\n",
    "    table_df = table_df.drop(['club_id_home', 'club_id_away'], axis=1)\n",
    "    \n",
    "    games_and_appearances_df = table_df\n",
    "    \n",
    "    games_and_appearances_df.dropna(inplace=True)\n",
    "    \n",
    "    \n",
    "    return games_and_appearances_df"
   ]
  },
  {
   "cell_type": "code",
   "execution_count": null,
   "metadata": {},
   "outputs": [],
   "source": []
  },
  {
   "cell_type": "code",
   "execution_count": null,
   "metadata": {},
   "outputs": [],
   "source": [
    "def player_stats(player_id, season, games_and_appearances_df):\n",
    "    #create a function to collate player stats\n",
    "    df = games_and_appearances_df[games_and_appearances_df['player_id'] == player_id]\n",
    "    df =  df[df['season'] == season]    \n",
    "    if (df.shape[0] == 0):\n",
    "        Out = [(np.nan, season,0,0,0,0,0,0,0,0,0,0,0,0)]\n",
    "        out_df = pd.DataFrame(data = Out, columns = ['player_id','season','goals','games',\n",
    "                                                     'assists','minutes_played','goals_for',\n",
    "                                                     'goals_against','clean_sheet',\n",
    "                                                     'yellow_cards', 'red_cards','value_goals_for','value_goals_against','value_clean_sheet'])\n",
    "        return out_df    \n",
    "    else:       \n",
    "        df[\"goals_for\"] = df.apply(lambda row: row['home_club_goals'] if row['home_club_id'] == row['player_club_id'] \n",
    "            else row['away_club_goals'] if row['away_club_id'] == row['player_club_id'] \n",
    "            else np.nan, axis=1)\n",
    "        df[\"goals_against\"] = df.apply(lambda row: row['away_club_goals'] if row['home_club_id'] == row['player_club_id'] \n",
    "            else row['home_club_goals'] if row['away_club_id'] == row['player_club_id'] \n",
    "            else np.nan, axis=1)\n",
    "        df['clean_sheet'] = df.apply(lambda row: 1 if row['goals_against'] == 0\n",
    "            else np.nan if row['goals_against'] > 0\n",
    "            else np.nan, axis=1)\n",
    "        \n",
    "        #engineering \n",
    "        df[\"value_goals_for\"] = df.apply(lambda row: row['goals']*row['total_market_value_away'] if row['home_club_id'] == row['player_club_id'] \n",
    "            else row['goals']*row['total_market_value_home'] if row['away_club_id'] == row['player_club_id'] \n",
    "            else np.nan, axis=1)\n",
    "        df[\"value_goals_against\"] = df.apply(lambda row: row['away_club_goals']/row['total_market_value_away'] if row['home_club_id'] == row['player_club_id'] \n",
    "            else row['home_club_goals']/row['total_market_value_home'] if row['away_club_id'] == row['player_club_id'] \n",
    "            else np.nan, axis=1)\n",
    "        df['value_clean_sheet'] = df.apply(lambda row: row['total_market_value_away'] if row['goals_against'] == 0 and row['home_club_id'] == row['player_club_id']\n",
    "            else row['total_market_value_home'] if row['goals_against'] == 0 and row['away_club_id'] == row['player_club_id']\n",
    "            else 0 if row['goals_against'] > 0\n",
    "            else np.nan, axis=1)\n",
    "        \n",
    "        \n",
    "        #print(df[\"value_goals_for\"])\n",
    "        \n",
    "        df = df.groupby(['player_id',\"season\"],as_index=False).agg({'goals': 'sum', 'game_id': 'nunique', \n",
    "                                                                    'assists': 'sum', 'minutes_played' : 'sum', 'goals_for' : 'sum',\n",
    "                                                                    'goals_against' : 'sum', 'clean_sheet' : 'sum','yellow_cards':'sum', \n",
    "                                                                    'red_cards':'sum',\n",
    "                                                                    'value_goals_for':'sum','value_goals_against':'sum','value_clean_sheet':'sum'})\n",
    "        out_df = df.rename(columns={'game_id': 'games'})\n",
    "        return out_df\n"
   ]
  },
  {
   "cell_type": "code",
   "execution_count": null,
   "metadata": {},
   "outputs": [],
   "source": [
    "# preprocessing function to return a dataframe\n",
    "def data_cleaning(clubs_df,players_df,games_and_appearances_df):\n",
    "    \n",
    "    merged_players_df=players_df.drop(['current_club_id', 'city_of_birth', 'date_of_birth','first_name', \n",
    "                                       'last_name', 'player_code', 'image_url', 'url'], axis=1)\n",
    "    merged_players_df = merged_players_df.reindex(columns = merged_players_df.columns.tolist() + \n",
    "                                                  ['club_value','squad_size','goals','goals_2022','games_2022',\n",
    "                                                    'assists_2022','minutes_played_2022','goals_against_2022',\n",
    "                                                    'goals_for_2022','clean_sheet_2022',\n",
    "                                                    'value_goals_for_2022', 'value_goals_against_2022','value_clean_sheet_2022'])\n",
    "    \n",
    "    for player_id in merged_players_df.player_id.unique():\n",
    "        club_id = players_df.current_club_id[(players_df.player_id==player_id)]\n",
    "        try:\n",
    "            merged_players_df.club_value[(players_df.player_id==player_id)]=int(clubs_df.total_market_value[(clubs_df.club_id==int(club_id))])\n",
    "        except:\n",
    "            merged_players_df.club_value[(players_df.player_id==player_id)]='NaN'  \n",
    "        merged_players_df.squad_size[(players_df.player_id==player_id)]=int((clubs_df.squad_size[(clubs_df.club_id==int(club_id))]))\n",
    "\n",
    "    columns=['player_id','games_2022','minutes_played_2022','goals_2022','assists_2022','goals_against_2022','goals_for_2022',\n",
    "             'clean_sheet_2022','name','position','sub_position','last_season','foot','height_in_cm','age','country_of_citizenship',\n",
    "             'country_of_birth','current_club_name','club_value','squad_size','current_club_domestic_competition_id','agent_name',\n",
    "             'contract_expiration_date','term_days_remaining','market_value_in_eur','highest_market_value_in_eur',\n",
    "             'value_goals_for_2022','value_goals_against_2022','value_clean_sheet_2022']\n",
    "    merged_players_df=merged_players_df[columns] \n",
    "\n",
    "    #iterate through players\n",
    "    for index in merged_players_df.index:\n",
    "        id = merged_players_df.loc[index][0]\n",
    "        name = merged_players_df.loc[index][1]\n",
    "        \n",
    "        season = 2022\n",
    "        stats = player_stats(id, season, games_and_appearances_df)\n",
    "  \n",
    "        merged_players_df.at[index,'games_{}'.format(season)]= stats['games'][0]\n",
    "        merged_players_df.at[index,'goals_{}'.format(season)]= stats['goals'][0]\n",
    "        merged_players_df.at[index,'assists_{}'.format(season)]= stats['assists'][0]\n",
    "        merged_players_df.at[index,'minutes_played_{}'.format(season)]= stats['minutes_played'][0]\n",
    "        merged_players_df.at[index,'goals_for_{}'.format(season)]= stats['goals_for'][0]\n",
    "        merged_players_df.at[index,'goals_against_{}'.format(season)]= stats['goals_against'][0]\n",
    "        merged_players_df.at[index,'clean_sheet_{}'.format(season)]= stats['clean_sheet'][0]\n",
    "        merged_players_df.at[index,'yellow_cards_{}'.format(season)]= stats['yellow_cards'][0]\n",
    "        merged_players_df.at[index,'red_cards_{}'.format(season)]= stats['red_cards'][0]\n",
    "        merged_players_df.at[index,'value_goals_for_{}'.format(season)]= stats['value_goals_for'][0]\n",
    "        merged_players_df.at[index,'value_goals_against_{}'.format(season)]= stats['value_goals_against'][0]\n",
    "        merged_players_df.at[index,'value_clean_sheet_{}'.format(season)]= stats['value_clean_sheet'][0]\n",
    "\n",
    "\n",
    "    #drop nan\n",
    "    merged_players_df0=merged_players_df.dropna(subset=['market_value_in_eur'])\n",
    "\n",
    "    #drop columns\n",
    "    drop_cols = ['player_id', 'clean_sheet_2022', 'name', 'sub_position', 'last_season',\n",
    "                 'country_of_birth', 'current_club_name', 'current_club_domestic_competition_id', \n",
    "                 'agent_name', 'squad_size']\n",
    "\n",
    "    merged_players_df0 = merged_players_df0.drop(columns=drop_cols)\n",
    "    \n",
    "    return merged_players_df0"
   ]
  },
  {
   "cell_type": "code",
   "execution_count": null,
   "metadata": {},
   "outputs": [],
   "source": [
    "players_df = players_df[players_df['last_season']==2022]\n",
    "players_df = players_df[players_df['position']=='Attack']"
   ]
  },
  {
   "cell_type": "code",
   "execution_count": null,
   "metadata": {},
   "outputs": [],
   "source": [
    "# test above functions\n",
    "\n",
    "players_df = players_df_preproc(players_df)\n",
    "appearances_df = appearances_df_preproc(appearances_df)\n",
    "games_and_appearances_df = games_and_appearances_df_preproc(games_df,appearances_df,clubs_df)\n",
    "df_cleaned = data_cleaning(clubs_df,players_df,games_and_appearances_df)"
   ]
  },
  {
   "cell_type": "code",
   "execution_count": null,
   "metadata": {},
   "outputs": [],
   "source": [
    "df_cleaned.head()"
   ]
  },
  {
   "cell_type": "code",
   "execution_count": null,
   "metadata": {},
   "outputs": [],
   "source": [
    "df_cleaned.info()"
   ]
  },
  {
   "cell_type": "code",
   "execution_count": null,
   "metadata": {},
   "outputs": [],
   "source": [
    "df_cleaned.describe()"
   ]
  },
  {
   "cell_type": "code",
   "execution_count": null,
   "metadata": {},
   "outputs": [],
   "source": [
    "import seaborn as sns"
   ]
  },
  {
   "cell_type": "code",
   "execution_count": null,
   "metadata": {},
   "outputs": [],
   "source": [
    "sns.histplot(df_cleaned[\"value_goals_for_2022\"])"
   ]
  },
  {
   "cell_type": "code",
   "execution_count": null,
   "metadata": {},
   "outputs": [],
   "source": []
  },
  {
   "attachments": {},
   "cell_type": "markdown",
   "metadata": {},
   "source": [
    "# Plan\n",
    "select features: (we already saparated by role)\n",
    "  - age\n",
    "  - value current club\n",
    "  - remaining days\n",
    "  - minutes played\n",
    "  - value_goals_for\n",
    "  - value_goals_against\n",
    "  - value_clean_sheet\n",
    "  - yellow\n",
    "  - red\n",
    "  - goals\n",
    "  - assist\n",
    "  - foot  ----> before encoding, we replace both-->left, Null-->right  ---> OHE\n",
    "  - height "
   ]
  },
  {
   "cell_type": "code",
   "execution_count": null,
   "metadata": {},
   "outputs": [],
   "source": [
    "df_cleaned.columns"
   ]
  },
  {
   "cell_type": "code",
   "execution_count": null,
   "metadata": {},
   "outputs": [],
   "source": [
    "df_final = df_cleaned.drop(columns=['country_of_citizenship','highest_market_value_in_eur','position'])"
   ]
  },
  {
   "cell_type": "code",
   "execution_count": null,
   "metadata": {},
   "outputs": [],
   "source": [
    "df1.columns"
   ]
  },
  {
   "cell_type": "code",
   "execution_count": null,
   "metadata": {},
   "outputs": [],
   "source": []
  }
 ],
 "metadata": {
  "kernelspec": {
   "display_name": "S4P",
   "language": "python",
   "name": "python3"
  },
  "language_info": {
   "codemirror_mode": {
    "name": "ipython",
    "version": 3
   },
   "file_extension": ".py",
   "mimetype": "text/x-python",
   "name": "python",
   "nbconvert_exporter": "python",
   "pygments_lexer": "ipython3",
   "version": "3.10.6"
  },
  "orig_nbformat": 4
 },
 "nbformat": 4,
 "nbformat_minor": 2
}
