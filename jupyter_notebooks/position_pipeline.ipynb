{
 "cells": [
  {
   "cell_type": "code",
   "execution_count": 1,
   "metadata": {},
   "outputs": [],
   "source": [
    "from sklearn.model_selection import train_test_split, cross_validate\n",
    "from sklearn.ensemble import GradientBoostingRegressor\n",
    "from sklearn.pipeline import make_pipeline, Pipeline\n",
    "from sklearn.compose import ColumnTransformer\n",
    "from sklearn.feature_selection import SelectPercentile, mutual_info_regression\n",
    "from sklearn.pipeline import make_pipeline\n",
    "from sklearn.preprocessing import OrdinalEncoder, MinMaxScaler, OneHotEncoder, StandardScaler\n",
    "from sklearn.impute import SimpleImputer, KNNImputer\n",
    "import pickle\n",
    "import pandas as pd\n",
    "import numpy as np\n",
    "import seaborn as sns\n",
    "# VIEWING OPTIONS IN THE NOTEBOOK\n",
    "from sklearn import set_config; set_config(display='diagram')"
   ]
  },
  {
   "cell_type": "code",
   "execution_count": 2,
   "metadata": {},
   "outputs": [],
   "source": [
    "numerical_features = ['games_2022', \n",
    "                      'minutes_played_2022', \n",
    "                      'goals_2022',\n",
    "                      'assists_2022', \n",
    "                      'goals_against_2022', \n",
    "                      'goals_for_2022',\n",
    "                      'clean_sheet_2022', \n",
    "                      'height_in_cm', \n",
    "                      'age', \n",
    "                      'club_value', \n",
    "                      'squad_size', \n",
    "                      'term_days_remaining', \n",
    "                      'yellow_cards_2022', \n",
    "                      'red_cards_2022']\n",
    "\n",
    "categorical_features = ['foot']\n",
    "\n",
    "ordinal_features = ['country_of_citizenship',\n",
    "                    'current_club_domestic_competition_id',\n",
    "                    'current_club_name']\n",
    "\n",
    "target = 'market_value_in_eur'"
   ]
  },
  {
   "cell_type": "code",
   "execution_count": 3,
   "metadata": {},
   "outputs": [],
   "source": [
    "def encode(frame, feature):\n",
    "    '''\n",
    "    function that custom encode a categorical feature ordered by the most impactful \n",
    "    sub-category on the target\n",
    "    '''\n",
    "    # create a temporary dataframe  \n",
    "    ordering = pd.DataFrame()\n",
    "    # create an index with the unique values of the selected feature\n",
    "    ordering['val'] = frame[feature].unique()\n",
    "    ordering.index = ordering.val\n",
    "    # create a spmean column with the mean value of the target \n",
    "    # for each category of the selected feature, sorted by value\n",
    "    ordering['spmean'] = frame[[feature, target]]\\\n",
    "                         .groupby(feature).mean()[target]\n",
    "    ordering = ordering.sort_values('spmean')\n",
    "    # create a column ordering with the number from 1 to the number of\n",
    "    # categories for the selected feature\n",
    "    ordering['ordering'] = range(1, ordering.shape[0]+1)\n",
    "    # extracting index and that column to a dictionary\n",
    "    ordering = ordering['ordering'].to_dict()\n",
    "    return ordering.keys()"
   ]
  },
  {
   "cell_type": "code",
   "execution_count": 4,
   "metadata": {},
   "outputs": [
    {
     "name": "stdout",
     "output_type": "stream",
     "text": [
      "The mean R2 score of position \"Attack\" cross validation is: 0.7178998218621399\n",
      "The mean R2 score of position \"Defender\" cross validation is: 0.6637816331933813\n",
      "The mean R2 score of position \"Goalkeeper\" cross validation is: 0.7379623162603017\n",
      "The mean R2 score of position \"Midfield\" cross validation is: 0.6737192937665119\n",
      "Models and transformers files saved and checked.\n"
     ]
    }
   ],
   "source": [
    "for position in ['Attack', 'Defender', 'Goalkeeper', 'Midfield']:\n",
    "\n",
    "    df = pd.read_pickle(f'../models/{position}_df.pickle')\n",
    "\n",
    "    feat_ordinal_dict = {}\n",
    "    for feature in ordinal_features:\n",
    "        feat_ordinal_dict[feature] = list(encode(df,feature))\n",
    "\n",
    "    numerical_transformer =  MinMaxScaler()\n",
    "    categorical_transformer = OneHotEncoder(handle_unknown='ignore')\n",
    "        \n",
    "    feat_ordinal = sorted(feat_ordinal_dict.keys())\n",
    "    feat_ordinal_values_sorted = [feat_ordinal_dict[i] for i in feat_ordinal]  \n",
    "        \n",
    "    ordinal_transformer = OrdinalEncoder(\n",
    "        categories=feat_ordinal_values_sorted,\n",
    "    )\n",
    "\n",
    "    transformer = ColumnTransformer([\n",
    "        ('num_tr', numerical_transformer, numerical_features),\n",
    "        ('cat_tr', categorical_transformer, categorical_features),\n",
    "        ('ord_tr', ordinal_transformer, ordinal_features)\n",
    "\n",
    "    ])\n",
    "    transformer.fit(df)\n",
    "    transformed_df = transformer.transform(df)\n",
    "\n",
    "    X, y = transformed_df, df[target]\n",
    "    gbr = GradientBoostingRegressor(random_state=0, verbose = 0)\n",
    "    gbr.fit(X, y)\n",
    "\n",
    "    filename = f'../models/{position}_model.pickle'\n",
    "    pickle.dump(gbr, open(filename, 'wb'))\n",
    "\n",
    "    filename = f'../models/{position}_transformer.pickle'\n",
    "    pickle.dump(transformer, open(filename, 'wb'))\n",
    "\n",
    "    results = cross_validate (gbr, X, y)\n",
    "    mean_score = np.mean(results['test_score'])\n",
    "    print(f'The mean R2 score of position \"{position}\" cross validation is: {mean_score}')\n",
    "\n",
    "    with open(f\"../models/{position}_model.pickle\", 'rb') as f:\n",
    "        # load using pickle de-serializer\n",
    "        model = pickle.load(f)\n",
    "    with open(f\"../models/{position}_transformer.pickle\", 'rb') as f:\n",
    "        # load using pickle de-serializer\n",
    "        transformer = pickle.load(f)\n",
    "\n",
    "print('Models and transformers files saved and checked.')"
   ]
  },
  {
   "cell_type": "code",
   "execution_count": 5,
   "metadata": {},
   "outputs": [],
   "source": [
    "player = pd.DataFrame()\n",
    "player['games_2022'] =[20]\n",
    "player['minutes_played_2022'] =[1800] \n",
    "player['goals_2022'] =[200]\n",
    "player['assists_2022'] =[15] \n",
    "player['goals_against_2022'] =[20] \n",
    "player['goals_for_2022'] =[10]\n",
    "player['clean_sheet_2022'] =[7] \n",
    "player['height_in_cm'] =[186] \n",
    "player['age'] =[31] \n",
    "player['club_value'] =[50000000] \n",
    "player['squad_size'] =[18] \n",
    "player['term_days_remaining'] =[200]\n",
    "player['value_goals_for_2022'] =[50000000] \n",
    "player['yellow_cards_2022'] =[2] \n",
    "player['red_cards_2022'] =[0]\n",
    "player['sub_position'] =['Left Winger'] \n",
    "player['foot'] =['Right']\n",
    "player['country_of_citizenship'] =['Italy']\n",
    "player['current_club_domestic_competition_id'] =['IT1'] \n",
    "player['current_club_name'] = ['Juventus Turin']"
   ]
  },
  {
   "cell_type": "code",
   "execution_count": 6,
   "metadata": {},
   "outputs": [
    {
     "data": {
      "text/plain": [
       "array([46456311.93334123])"
      ]
     },
     "execution_count": 6,
     "metadata": {},
     "output_type": "execute_result"
    }
   ],
   "source": [
    "player_transformed = transformer.transform(player)\n",
    "my_value = model.predict(player_transformed)\n",
    "my_value"
   ]
  }
 ],
 "metadata": {
  "kernelspec": {
   "display_name": "S4P",
   "language": "python",
   "name": "python3"
  },
  "language_info": {
   "codemirror_mode": {
    "name": "ipython",
    "version": 3
   },
   "file_extension": ".py",
   "mimetype": "text/x-python",
   "name": "python",
   "nbconvert_exporter": "python",
   "pygments_lexer": "ipython3",
   "version": "3.10.6"
  },
  "orig_nbformat": 4
 },
 "nbformat": 4,
 "nbformat_minor": 2
}
