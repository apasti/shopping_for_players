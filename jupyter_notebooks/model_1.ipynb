{
 "cells": [
  {
   "cell_type": "code",
   "execution_count": 1,
   "metadata": {},
   "outputs": [
    {
     "name": "stdout",
     "output_type": "stream",
     "text": [
      "Packages installed\n"
     ]
    }
   ],
   "source": [
    "# Import modules\n",
    "import pandas as pd\n",
    "import numpy as np\n",
    "import matplotlib.pyplot as plt\n",
    "import seaborn as sns\n",
    "import datetime as dt\n",
    "import calendar\n",
    "import datetime\n",
    "from datetime import datetime, timedelta, date\n",
    "import warnings\n",
    "import os\n",
    "\n",
    "from sklearn.linear_model import LogisticRegression\n",
    "from sklearn.tree import DecisionTreeRegressor\n",
    "from sklearn.ensemble import RandomForestRegressor\n",
    "from sklearn.svm import SVR\n",
    "from sklearn.ensemble import GradientBoostingRegressor\n",
    "from sklearn import ensemble\n",
    "from xgboost import XGBRegressor\n",
    "from lightgbm import LGBMRegressor\n",
    "from catboost import CatBoostRegressor\n",
    "from sklearn.model_selection import cross_val_score\n",
    "from sklearn.model_selection import train_test_split\n",
    "\n",
    "#settings\n",
    "pd.set_option('display.max_row', 100)\n",
    "pd.set_option('display.max_columns', 1200)\n",
    "pd.set_option('display.width', 1200)\n",
    "warnings.filterwarnings(\"ignore\")\n",
    "%matplotlib inline\n",
    "\n",
    "#variables\n",
    "colour=['maroon','r','g','darkgreen','c','teal','b','navy','indigo','m','deeppink','orange','sienna','yellow','khaki','olive','tan','black','grey','brown']\n",
    "\n",
    "print(\"Packages installed\")"
   ]
  },
  {
   "cell_type": "code",
   "execution_count": 2,
   "metadata": {},
   "outputs": [
    {
     "name": "stdout",
     "output_type": "stream",
     "text": [
      "game_events_df (554429, 7)\n",
      "players_df (28489, 23)\n",
      "games_df (61043, 21)\n",
      "club_games_df (122086, 11)\n",
      "competitions_df (43, 12)\n",
      "player_valuations_df (419777, 7)\n",
      "clubs_df (411, 15)\n",
      "appearances_df (1151986, 13)\n",
      "Data imported\n"
     ]
    }
   ],
   "source": [
    "# import all files in Data folder and read into dataframes\n",
    "dataframes=[]\n",
    "for dirname, _, filenames in os.walk('../raw_data/'):\n",
    "    for filename in filenames:\n",
    "        file=filename.split('.')\n",
    "        file=((file[0]+\"_df\"))\n",
    "        if file !=\"_df\":\n",
    "            filepath=os.path.join(dirname,filename)\n",
    "            df=pd.read_csv(filepath,sep=\",\",encoding = \"UTF-8\")\n",
    "            exec(f'{file} = df.copy()')\n",
    "            print(file, df.shape)\n",
    "            dataframes.append(df)\n",
    "print('Data imported')"
   ]
  },
  {
   "cell_type": "code",
   "execution_count": 3,
   "metadata": {},
   "outputs": [
    {
     "name": "stdout",
     "output_type": "stream",
     "text": [
      "Data processing complete\n"
     ]
    }
   ],
   "source": [
    "# Calculate the age of each player\n",
    "players_df['date_of_birth'] = pd.to_datetime(players_df['date_of_birth'])\n",
    "# drop players with no date of birth\n",
    "players_df = players_df[players_df['date_of_birth'].isnull() == False]\n",
    "now = datetime.now()\n",
    "players_df['age'] = (now - players_df['date_of_birth']).apply(lambda x: x.days) / 365.25\n",
    "players_df['age'] = players_df['age'].round().astype(int) \n",
    "\n",
    "# Calculate the contract remaining of each player\n",
    "players_df['contract_expiration_date'] = pd.to_datetime(players_df['contract_expiration_date'])\n",
    "# drop players with no date of birth\n",
    "players_df = players_df[players_df['contract_expiration_date'].isnull() == False]\n",
    "now = datetime.now()\n",
    "players_df['term_days_remaining'] = (players_df['contract_expiration_date']- now).apply(lambda x: x.days) \n",
    "\n",
    "# add year to player valuations\n",
    "player_valuations_df['datetime']=pd.to_datetime(player_valuations_df['datetime'], format=\"%Y-%m-%d\")\n",
    "player_valuations_df['year']=player_valuations_df['datetime'].dt.year\n",
    "\n",
    "# add year to player appearances\n",
    "appearances_df['datetime']=pd.to_datetime(appearances_df['date'], format=\"%Y-%m-%d\")\n",
    "appearances_df['year']=appearances_df['datetime'].dt.year\n",
    "\n",
    "#add position to player valuations\n",
    "position_df=players_df.copy()\n",
    "position_df=position_df.drop(['name', 'current_club_id', 'current_club_name', 'country_of_citizenship', 'country_of_birth', 'city_of_birth', 'date_of_birth', 'foot', 'height_in_cm', 'market_value_in_eur', 'highest_market_value_in_eur', 'agent_name', 'contract_expiration_date', 'current_club_domestic_competition_id', 'first_name', 'last_name', 'player_code', 'image_url', 'last_season', 'url', 'age'], axis=1)\n",
    "player_valuations_df=player_valuations_df.merge(position_df, left_on='player_id', right_on='player_id')\n",
    "\n",
    "#add position to appearances\n",
    "value_df=players_df.copy()\n",
    "value_df=value_df.drop(['name', 'current_club_id', 'current_club_name', 'country_of_citizenship', 'country_of_birth', 'city_of_birth', 'date_of_birth', 'foot', 'height_in_cm', 'sub_position', 'highest_market_value_in_eur', 'agent_name', 'contract_expiration_date', 'current_club_domestic_competition_id', 'first_name', 'last_name', 'player_code', 'image_url', 'last_season', 'url', 'age'], axis=1)\n",
    "appearances_df1=value_df.merge(appearances_df, left_on='player_id', right_on='player_id')\n",
    "\n",
    "print(\"Data processing complete\")"
   ]
  },
  {
   "cell_type": "code",
   "execution_count": null,
   "metadata": {},
   "outputs": [],
   "source": []
  }
 ],
 "metadata": {
  "kernelspec": {
   "display_name": "lewagon",
   "language": "python",
   "name": "python3"
  },
  "language_info": {
   "codemirror_mode": {
    "name": "ipython",
    "version": 3
   },
   "file_extension": ".py",
   "mimetype": "text/x-python",
   "name": "python",
   "nbconvert_exporter": "python",
   "pygments_lexer": "ipython3",
   "version": "3.10.6"
  },
  "orig_nbformat": 4
 },
 "nbformat": 4,
 "nbformat_minor": 2
}
