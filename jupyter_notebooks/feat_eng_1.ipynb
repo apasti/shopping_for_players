{
 "cells": [
  {
   "cell_type": "code",
   "execution_count": 1,
   "metadata": {},
   "outputs": [],
   "source": [
    "import pandas as pd\n",
    "import numpy as np\n",
    "import seaborn as sns\n",
    "import datetime as dt\n",
    "import calendar\n",
    "import datetime\n",
    "from datetime import datetime, timedelta, date\n",
    "import warnings\n",
    "\n",
    "#settings\n",
    "warnings.filterwarnings(\"ignore\")"
   ]
  },
  {
   "cell_type": "code",
   "execution_count": 2,
   "metadata": {},
   "outputs": [],
   "source": [
    "appearances_df = pd.read_csv(\"../raw_data/appearances.csv\")\n",
    "clubs_df = pd.read_csv(\"../raw_data/clubs.csv\")\n",
    "games_df = pd.read_csv(\"../raw_data/games.csv\")\n",
    "players_df = pd.read_csv(\"../raw_data/players.csv\")"
   ]
  },
  {
   "cell_type": "code",
   "execution_count": 3,
   "metadata": {},
   "outputs": [],
   "source": [
    "def players_df_preproc(players_df):\n",
    "    #add year to game valuations\n",
    "    now = datetime.now()\n",
    "    players_df['date_of_birth'] = pd.to_datetime(players_df['date_of_birth'])\n",
    "    players_df = players_df[players_df['date_of_birth'].isnull() == False]\n",
    "    players_df['age'] = (now - players_df['date_of_birth']).apply(lambda x: x.days) / 365.25\n",
    "    players_df['age'] = players_df['age'].round().astype(int) \n",
    "\n",
    "    # Calculate the contract remaining of each player\n",
    "    players_df['contract_expiration_date'] = pd.to_datetime(players_df['contract_expiration_date'])\n",
    "    players_df = players_df[players_df['contract_expiration_date'].isnull() == False]\n",
    "    players_df['term_days_remaining'] = (players_df['contract_expiration_date']- now).apply(lambda x: x.days) \n",
    "    return players_df"
   ]
  },
  {
   "cell_type": "code",
   "execution_count": 4,
   "metadata": {},
   "outputs": [],
   "source": [
    "def appearances_df_preproc(appearances_df):\n",
    "    # add year to player appearances\n",
    "    appearances_df['datetime']=pd.to_datetime(appearances_df['date'], format=\"%Y-%m-%d\")\n",
    "    appearances_df['year']=appearances_df['datetime'].dt.year\n",
    "    appearances_df = appearances_df[(appearances_df.year > 2004 ) & (appearances_df.year < 2023 )]\n",
    "    return appearances_df"
   ]
  },
  {
   "cell_type": "code",
   "execution_count": 5,
   "metadata": {},
   "outputs": [],
   "source": [
    "def games_and_appearances_df_preproc(games_df,appearances_df,clubs_df):\n",
    "    games_df['datetime']=pd.to_datetime(games_df['date'], format=\"%Y-%m-%d\")\n",
    "    games_df['year']=games_df['datetime'].dt.year\n",
    "    games_df = games_df[(games_df.year > 2004 ) & (games_df.year < 2023 )]\n",
    "    games_and_appearances_df = appearances_df.merge(games_df, on=['game_id'], how='left')\n",
    "    \n",
    "    \n",
    "    \n",
    "    # here we impute the missing values with the minimum value of the corresponding league \n",
    "    # get the minimum value of the 'Domestic League' column\n",
    "    min_value = clubs_df.groupby('domestic_competition_id')['total_market_value'].min()\n",
    "\n",
    "    # fill missing values in 'Market Value' column with the minimum value of the 'Domestic League' column\n",
    "    clubs_df['total_market_value'] = clubs_df.apply(lambda x: min_value[x['domestic_competition_id']] if pd.isnull(x['total_market_value']) else x['total_market_value'], axis=1)\n",
    "    \n",
    "    table_df = games_and_appearances_df\n",
    "    \n",
    "    # Join the tables on the home and away club IDs\n",
    "    table_df = table_df.merge(clubs_df[['club_id', 'total_market_value']], \n",
    "                            how='left', \n",
    "                            left_on='home_club_id', \n",
    "                            right_on='club_id')\n",
    "\n",
    "    table_df = table_df.merge(clubs_df[['club_id', 'total_market_value']], \n",
    "                            how='left', \n",
    "                            left_on='away_club_id', \n",
    "                            right_on='club_id',\n",
    "                            suffixes=('_home', '_away'))\n",
    "\n",
    "    # Rename the columns to reflect the market value data\n",
    "    table_df = table_df.rename(columns={'market_value_home': 'home_club_market_value',\n",
    "                                        'market_value_away': 'away_club_market_value'})\n",
    "\n",
    "    # Drop the redundant club_id columns\n",
    "    table_df = table_df.drop(['club_id_home', 'club_id_away'], axis=1)\n",
    "    \n",
    "    games_and_appearances_df = table_df\n",
    "    \n",
    "    \n",
    "    return games_and_appearances_df"
   ]
  },
  {
   "cell_type": "code",
   "execution_count": 6,
   "metadata": {},
   "outputs": [
    {
     "data": {
      "text/plain": [
       "'\\n df[\"goals_for\"] = df.apply(lambda row: row[\\'home_club_goals\\'] if row[\\'home_club_id\\'] == row[\\'player_club_id\\'] \\n            else row[\\'away_club_goals\\'] if row[\\'away_club_id\\'] == row[\\'player_club_id\\'] \\n            else np.nan, axis=1)\\n       '"
      ]
     },
     "execution_count": 6,
     "metadata": {},
     "output_type": "execute_result"
    }
   ],
   "source": [
    "#transform home and away ----> for and against \n",
    "\"\"\"\n",
    " df[\"goals_for\"] = df.apply(lambda row: row['home_club_goals'] if row['home_club_id'] == row['player_club_id'] \n",
    "            else row['away_club_goals'] if row['away_club_id'] == row['player_club_id'] \n",
    "            else np.nan, axis=1)\n",
    "       \"\"\"\n"
   ]
  },
  {
   "cell_type": "code",
   "execution_count": 7,
   "metadata": {},
   "outputs": [],
   "source": [
    "#create a function to collate player stats\n",
    "def player_stats(player_id, season, games_and_appearances_df):\n",
    "    \n",
    "    df = games_and_appearances_df[games_and_appearances_df['player_id'] == player_id]\n",
    "    df =  df[df['season'] == season]    \n",
    "    if (df.shape[0] == 0):\n",
    "        Out = [(np.nan, season,0,0,0,0,0,0,0,0,0,0)]\n",
    "        out_df = pd.DataFrame(data = Out, columns = ['player_id','season','goals','games',\n",
    "                                                     'assists','minutes_played','goals_for',\n",
    "                                                     'goals_against','clean_sheet',\n",
    "                                                     'yellow_cards','red_cards',\"value_goals_for\"])\n",
    "        return out_df    \n",
    "    else:       \n",
    "        df[\"goals_for\"] = df.apply(lambda row: row['home_club_goals'] if row['home_club_id'] == row['player_club_id'] \n",
    "            else row['away_club_goals'] if row['away_club_id'] == row['player_club_id'] \n",
    "            else np.nan, axis=1)\n",
    "        \"\"\"\n",
    "        df['value_goals_for'] = df.apply(lambda row: row['home_club_goals']*row['total_market_value_home'] if row['home_club_id'] == row['player_club_id'] \n",
    "            else row['away_club_goals']*row['total_market_value_away'] if row['away_club_id'] == row['player_club_id'] \n",
    "            else np.nan, axis=1)\n",
    "        \"\"\"\n",
    "        df['value_goals_for'] = df.apply(lambda row: row['home_club_goals']*row['total_market_value_home'] if row['home_club_id'] == row['player_club_id'] \n",
    "            else row['away_club_goals']*row['total_market_value_away'] if row['away_club_id'] == row['player_club_id'] \n",
    "            else np.nan if pd.isnull(row['home_club_id']) or pd.isnull(row['away_club_id']) else np.nan, axis=1)\n",
    "\n",
    "        \n",
    "        \n",
    "        \n",
    "        df[\"goals_against\"] = df.apply(lambda row: row['away_club_goals'] if row['home_club_id'] == row['player_club_id'] \n",
    "            else row['home_club_goals'] if row['away_club_id'] == row['player_club_id'] \n",
    "            else np.nan, axis=1)\n",
    "        df['clean_sheet'] = df.apply(lambda row: 1 if row['goals_against'] == 0\n",
    "            else 0 if row['goals_against'] > 0\n",
    "            else np.nan, axis=1)\n",
    "        #weighing performances\n",
    "        \n",
    "        #((= goals_for * value_against))         goals scored must be multiplied for the valuer of the opposing team     \n",
    "        \n",
    "        \n",
    "        # df[\"value_goals_against\"]  ((= goals_against / value_against))     goals socred by opponent team must be divided by the value of the opposing team     \n",
    "        # df['value_minutes_played]  ((= minutes_played * value_for))                      \n",
    "        # df[\"clean_sheet_value\"]    ((= clean_sheet * value_against ))     same logic as \"value goal for\"\n",
    "       \n",
    "       # look at the distribution\n",
    "       \n",
    "       \n",
    "       \n",
    "        # scaler probably robust (maybe standard)\n",
    "        \n",
    "        df = df.groupby(['player_id',\"season\"],as_index=False).agg({'goals': 'sum', 'game_id': 'nunique', \n",
    "                                                                    'assists': 'sum', 'minutes_played' : 'sum', 'goals_for' : 'sum',\n",
    "                                                                    'goals_against' : 'sum', 'clean_sheet' : 'sum','yellow_cards':'sum','red_cards':'sum',\n",
    "                                                                    'value_goals_for' : 'sum'})\n",
    "        out_df = df.rename(columns={'game_id': 'games'})\n",
    "        return out_df\n"
   ]
  },
  {
   "cell_type": "code",
   "execution_count": 8,
   "metadata": {},
   "outputs": [],
   "source": [
    "# preprocessing function to return a dataframe\n",
    "def preprocessing(clubs_df,players_df,games_and_appearances_df):\n",
    "    \n",
    "    merged_players_df=players_df.drop(['current_club_id', 'city_of_birth', 'date_of_birth','first_name', 'last_name', 'player_code', 'image_url', 'url'], axis=1)\n",
    "    merged_players_df = merged_players_df.reindex(columns = merged_players_df.columns.tolist() + ['value_goals_for','club_value','squad_size','goals','goals_2022','games_2022','assists_2022','minutes_played_2022','goals_against_2022','goals_for_2022','clean_sheet_2022'])\n",
    "    print(\"step 1 done\")\n",
    "    \n",
    "    for player_id in merged_players_df.player_id.unique():\n",
    "        club_id = players_df.current_club_id[(players_df.player_id==player_id)]\n",
    "        try:\n",
    "            merged_players_df.club_value[(players_df.player_id==player_id)]=int(clubs_df.total_market_value[(clubs_df.club_id==int(club_id))])\n",
    "        except:\n",
    "            merged_players_df.club_value[(players_df.player_id==player_id)]='NaN'  \n",
    "        merged_players_df.squad_size[(players_df.player_id==player_id)]=int((clubs_df.squad_size[(clubs_df.club_id==int(club_id))]))\n",
    "\n",
    "    columns=['player_id','games_2022','minutes_played_2022','goals_2022','assists_2022','goals_against_2022',\n",
    "             'goals_for_2022','clean_sheet_2022','name','position','sub_position','last_season','foot','height_in_cm','age',\n",
    "             'country_of_citizenship','country_of_birth','current_club_name','club_value','squad_size','current_club_domestic_competition_id',\n",
    "             'agent_name','contract_expiration_date','term_days_remaining','market_value_in_eur','highest_market_value_in_eur','value_goals_for']\n",
    "    merged_players_df=merged_players_df[columns] \n",
    "    print(\"step 2 done\")\n",
    "\n",
    "    #iterate through players\n",
    "    for index in merged_players_df.index:\n",
    "        id = merged_players_df.loc[index][0]\n",
    "        #name = merged_players_df.loc[index][1]\n",
    "        \n",
    "        season = 2022\n",
    "        stats = player_stats(id, season, games_and_appearances_df)\n",
    "  \n",
    "        merged_players_df.at[index,'games_{}'.format(season)]= stats['games'][0]\n",
    "        merged_players_df.at[index,'goals_{}'.format(season)]= stats['goals'][0]\n",
    "        merged_players_df.at[index,'assists_{}'.format(season)]= stats['assists'][0]\n",
    "        merged_players_df.at[index,'minutes_played_{}'.format(season)]= stats['minutes_played'][0]\n",
    "        merged_players_df.at[index,'goals_for_{}'.format(season)]= stats['goals_for'][0]\n",
    "        merged_players_df.at[index,'goals_against_{}'.format(season)]= stats['goals_against'][0]\n",
    "        merged_players_df.at[index,'clean_sheet_{}'.format(season)]= stats['clean_sheet'][0]\n",
    "        merged_players_df.at[index,'yellow_cards_{}'.format(season)]= stats['yellow_cards'][0]\n",
    "        merged_players_df.at[index,'red_cards_{}'.format(season)]= stats['red_cards'][0]\n",
    "        merged_players_df.at[index,'value_goals_for_{}'.format(season)]= stats['value_goals_for'][0]\n",
    "\n",
    "\n",
    "    print(\"step 3 done\")\n",
    "\n",
    "    #drop nan\n",
    "    merged_players_df1=merged_players_df.dropna(subset=['market_value_in_eur'])\n",
    "    \n",
    "    # convert position categories to Columns for test data\n",
    "    dummies=pd.get_dummies(merged_players_df1[['position']], prefix_sep='_') \n",
    "    merged_players_df1 = pd.concat([merged_players_df1, dummies], axis=1) \n",
    "    dummies=pd.get_dummies(merged_players_df1[['sub_position']], prefix_sep='_') \n",
    "    merged_players_df1 = pd.concat([merged_players_df1, dummies], axis=1) \n",
    "    dummies=pd.get_dummies(merged_players_df1[['foot']], prefix_sep='_') \n",
    "    merged_players_df1 = pd.concat([merged_players_df1, dummies], axis=1) \n",
    "\n",
    "    #separate numeric columns\n",
    "    drop_cols = ['player_id', 'clean_sheet_2022', 'name', 'position', 'sub_position', 'last_season',\n",
    "       'foot', 'country_of_citizenship',\n",
    "       'country_of_birth', 'current_club_name', 'club_value', \n",
    "       'current_club_domestic_competition_id', 'agent_name',\n",
    "       'contract_expiration_date', 'highest_market_value_in_eur']\n",
    "    merged_players_df1 = merged_players_df1.drop(columns=drop_cols)\n",
    "    return merged_players_df1"
   ]
  },
  {
   "cell_type": "code",
   "execution_count": null,
   "metadata": {},
   "outputs": [],
   "source": []
  },
  {
   "cell_type": "code",
   "execution_count": 9,
   "metadata": {},
   "outputs": [],
   "source": [
    "# test above functions\n",
    "\n",
    "players_df = players_df_preproc(players_df)\n"
   ]
  },
  {
   "cell_type": "code",
   "execution_count": null,
   "metadata": {},
   "outputs": [],
   "source": []
  },
  {
   "cell_type": "code",
   "execution_count": 10,
   "metadata": {},
   "outputs": [],
   "source": [
    "appearances_df = appearances_df_preproc(appearances_df)\n"
   ]
  },
  {
   "cell_type": "code",
   "execution_count": 11,
   "metadata": {},
   "outputs": [],
   "source": [
    "games_and_appearances_df = games_and_appearances_df_preproc(games_df,appearances_df,clubs_df)\n"
   ]
  },
  {
   "cell_type": "code",
   "execution_count": null,
   "metadata": {},
   "outputs": [],
   "source": []
  },
  {
   "cell_type": "code",
   "execution_count": 12,
   "metadata": {},
   "outputs": [
    {
     "name": "stdout",
     "output_type": "stream",
     "text": [
      "step 1 done\n",
      "step 2 done\n",
      "step 3 done\n"
     ]
    }
   ],
   "source": [
    "df_preprocessed = preprocessing(clubs_df,players_df,games_and_appearances_df)"
   ]
  },
  {
   "cell_type": "code",
   "execution_count": null,
   "metadata": {},
   "outputs": [],
   "source": []
  },
  {
   "cell_type": "code",
   "execution_count": 13,
   "metadata": {},
   "outputs": [
    {
     "data": {
      "text/plain": [
       "9          125000.0\n",
       "10         150000.0\n",
       "11         300000.0\n",
       "19         500000.0\n",
       "28         300000.0\n",
       "            ...    \n",
       "28484      500000.0\n",
       "28485      100000.0\n",
       "28486     1200000.0\n",
       "28487    10000000.0\n",
       "28488     1800000.0\n",
       "Name: market_value_in_eur, Length: 15577, dtype: float64"
      ]
     },
     "execution_count": 13,
     "metadata": {},
     "output_type": "execute_result"
    }
   ],
   "source": [
    "df_preprocessed['market_value_in_eur']"
   ]
  },
  {
   "cell_type": "code",
   "execution_count": 15,
   "metadata": {},
   "outputs": [
    {
     "data": {
      "text/plain": [
       "Index(['games_2022', 'minutes_played_2022', 'goals_2022', 'assists_2022',\n",
       "       'goals_against_2022', 'goals_for_2022', 'height_in_cm', 'age',\n",
       "       'squad_size', 'term_days_remaining', 'market_value_in_eur',\n",
       "       'value_goals_for', 'yellow_cards_2022', 'red_cards_2022',\n",
       "       'value_goals_for_2022', 'position_Attack', 'position_Defender',\n",
       "       'position_Goalkeeper', 'position_Midfield',\n",
       "       'sub_position_Attacking Midfield', 'sub_position_Central Midfield',\n",
       "       'sub_position_Centre-Back', 'sub_position_Centre-Forward',\n",
       "       'sub_position_Defensive Midfield', 'sub_position_Left Midfield',\n",
       "       'sub_position_Left Winger', 'sub_position_Left-Back',\n",
       "       'sub_position_Right Midfield', 'sub_position_Right Winger',\n",
       "       'sub_position_Right-Back', 'sub_position_Second Striker', 'foot_Both',\n",
       "       'foot_Left', 'foot_Right'],\n",
       "      dtype='object')"
      ]
     },
     "execution_count": 15,
     "metadata": {},
     "output_type": "execute_result"
    }
   ],
   "source": [
    "df_preprocessed.columns"
   ]
  },
  {
   "cell_type": "code",
   "execution_count": 16,
   "metadata": {},
   "outputs": [],
   "source": [
    "df1 = df_preprocessed[['games_2022',\n",
    "       'goals_against_2022', 'goals_for_2022' , 'age', 'market_value_in_eur',\n",
    "       'value_goals_for', 'yellow_cards_2022', 'red_cards_2022',\n",
    "       'value_goals_for_2022', 'position_Attack']]"
   ]
  },
  {
   "cell_type": "code",
   "execution_count": 17,
   "metadata": {},
   "outputs": [
    {
     "data": {
      "text/html": [
       "<div>\n",
       "<style scoped>\n",
       "    .dataframe tbody tr th:only-of-type {\n",
       "        vertical-align: middle;\n",
       "    }\n",
       "\n",
       "    .dataframe tbody tr th {\n",
       "        vertical-align: top;\n",
       "    }\n",
       "\n",
       "    .dataframe thead th {\n",
       "        text-align: right;\n",
       "    }\n",
       "</style>\n",
       "<table border=\"1\" class=\"dataframe\">\n",
       "  <thead>\n",
       "    <tr style=\"text-align: right;\">\n",
       "      <th></th>\n",
       "      <th>games_2022</th>\n",
       "      <th>goals_against_2022</th>\n",
       "      <th>goals_for_2022</th>\n",
       "      <th>age</th>\n",
       "      <th>market_value_in_eur</th>\n",
       "      <th>value_goals_for</th>\n",
       "      <th>yellow_cards_2022</th>\n",
       "      <th>red_cards_2022</th>\n",
       "      <th>value_goals_for_2022</th>\n",
       "      <th>position_Attack</th>\n",
       "    </tr>\n",
       "  </thead>\n",
       "  <tbody>\n",
       "    <tr>\n",
       "      <th>9</th>\n",
       "      <td>0.0</td>\n",
       "      <td>0.0</td>\n",
       "      <td>0.0</td>\n",
       "      <td>35</td>\n",
       "      <td>125000.0</td>\n",
       "      <td>NaN</td>\n",
       "      <td>0.0</td>\n",
       "      <td>0.0</td>\n",
       "      <td>0.0</td>\n",
       "      <td>1</td>\n",
       "    </tr>\n",
       "    <tr>\n",
       "      <th>10</th>\n",
       "      <td>0.0</td>\n",
       "      <td>0.0</td>\n",
       "      <td>0.0</td>\n",
       "      <td>39</td>\n",
       "      <td>150000.0</td>\n",
       "      <td>NaN</td>\n",
       "      <td>0.0</td>\n",
       "      <td>0.0</td>\n",
       "      <td>0.0</td>\n",
       "      <td>1</td>\n",
       "    </tr>\n",
       "    <tr>\n",
       "      <th>11</th>\n",
       "      <td>0.0</td>\n",
       "      <td>0.0</td>\n",
       "      <td>0.0</td>\n",
       "      <td>34</td>\n",
       "      <td>300000.0</td>\n",
       "      <td>NaN</td>\n",
       "      <td>0.0</td>\n",
       "      <td>0.0</td>\n",
       "      <td>0.0</td>\n",
       "      <td>1</td>\n",
       "    </tr>\n",
       "    <tr>\n",
       "      <th>19</th>\n",
       "      <td>0.0</td>\n",
       "      <td>0.0</td>\n",
       "      <td>0.0</td>\n",
       "      <td>36</td>\n",
       "      <td>500000.0</td>\n",
       "      <td>NaN</td>\n",
       "      <td>0.0</td>\n",
       "      <td>0.0</td>\n",
       "      <td>0.0</td>\n",
       "      <td>1</td>\n",
       "    </tr>\n",
       "    <tr>\n",
       "      <th>28</th>\n",
       "      <td>0.0</td>\n",
       "      <td>0.0</td>\n",
       "      <td>0.0</td>\n",
       "      <td>34</td>\n",
       "      <td>300000.0</td>\n",
       "      <td>NaN</td>\n",
       "      <td>0.0</td>\n",
       "      <td>0.0</td>\n",
       "      <td>0.0</td>\n",
       "      <td>0</td>\n",
       "    </tr>\n",
       "  </tbody>\n",
       "</table>\n",
       "</div>"
      ],
      "text/plain": [
       "    games_2022  goals_against_2022  goals_for_2022  age  market_value_in_eur  \\\n",
       "9          0.0                 0.0             0.0   35             125000.0   \n",
       "10         0.0                 0.0             0.0   39             150000.0   \n",
       "11         0.0                 0.0             0.0   34             300000.0   \n",
       "19         0.0                 0.0             0.0   36             500000.0   \n",
       "28         0.0                 0.0             0.0   34             300000.0   \n",
       "\n",
       "    value_goals_for  yellow_cards_2022  red_cards_2022  value_goals_for_2022  \\\n",
       "9               NaN                0.0             0.0                   0.0   \n",
       "10              NaN                0.0             0.0                   0.0   \n",
       "11              NaN                0.0             0.0                   0.0   \n",
       "19              NaN                0.0             0.0                   0.0   \n",
       "28              NaN                0.0             0.0                   0.0   \n",
       "\n",
       "    position_Attack  \n",
       "9                 1  \n",
       "10                1  \n",
       "11                1  \n",
       "19                1  \n",
       "28                0  "
      ]
     },
     "execution_count": 17,
     "metadata": {},
     "output_type": "execute_result"
    }
   ],
   "source": [
    "df1.head()"
   ]
  },
  {
   "cell_type": "code",
   "execution_count": 18,
   "metadata": {},
   "outputs": [
    {
     "data": {
      "text/plain": [
       "Index(['appearance_id', 'game_id', 'player_id', 'player_club_id',\n",
       "       'player_current_club_id', 'date_x', 'player_name', 'competition_id_x',\n",
       "       'yellow_cards', 'red_cards', 'goals', 'assists', 'minutes_played',\n",
       "       'datetime_x', 'year_x', 'competition_id_y', 'competition_type',\n",
       "       'season', 'round', 'date_y', 'home_club_id', 'away_club_id',\n",
       "       'home_club_goals', 'away_club_goals', 'aggregate', 'home_club_position',\n",
       "       'away_club_position', 'club_home_name', 'club_away_name',\n",
       "       'home_club_manager_name', 'away_club_manager_name', 'stadium',\n",
       "       'attendance', 'referee', 'url', 'datetime_y', 'year_y',\n",
       "       'total_market_value_home', 'total_market_value_away'],\n",
       "      dtype='object')"
      ]
     },
     "execution_count": 18,
     "metadata": {},
     "output_type": "execute_result"
    }
   ],
   "source": [
    "games_and_appearances_df.columns"
   ]
  },
  {
   "cell_type": "code",
   "execution_count": 19,
   "metadata": {},
   "outputs": [
    {
     "data": {
      "text/plain": [
       "Index(['games_2022', 'minutes_played_2022', 'goals_2022', 'assists_2022',\n",
       "       'goals_against_2022', 'goals_for_2022', 'height_in_cm', 'age',\n",
       "       'squad_size', 'term_days_remaining', 'market_value_in_eur',\n",
       "       'value_goals_for', 'yellow_cards_2022', 'red_cards_2022',\n",
       "       'value_goals_for_2022', 'position_Attack', 'position_Defender',\n",
       "       'position_Goalkeeper', 'position_Midfield',\n",
       "       'sub_position_Attacking Midfield', 'sub_position_Central Midfield',\n",
       "       'sub_position_Centre-Back', 'sub_position_Centre-Forward',\n",
       "       'sub_position_Defensive Midfield', 'sub_position_Left Midfield',\n",
       "       'sub_position_Left Winger', 'sub_position_Left-Back',\n",
       "       'sub_position_Right Midfield', 'sub_position_Right Winger',\n",
       "       'sub_position_Right-Back', 'sub_position_Second Striker', 'foot_Both',\n",
       "       'foot_Left', 'foot_Right'],\n",
       "      dtype='object')"
      ]
     },
     "execution_count": 19,
     "metadata": {},
     "output_type": "execute_result"
    }
   ],
   "source": [
    "df_preprocessed.columns"
   ]
  },
  {
   "cell_type": "code",
   "execution_count": 20,
   "metadata": {},
   "outputs": [],
   "source": [
    "df2 = games_and_appearances_df.drop(columns= ['appearance_id', 'game_id', 'player_id',\n",
    "       'date_x', 'player_name', 'competition_id_x',\n",
    "       'yellow_cards', 'red_cards',\n",
    "        'year_x', 'competition_id_y', 'competition_type',\n",
    "        'round', 'date_y',\n",
    "        'home_club_position',\n",
    "       'away_club_position', 'club_home_name', 'club_away_name',\n",
    "       'home_club_manager_name', 'away_club_manager_name', 'stadium',\n",
    "       'attendance', 'referee', 'url', 'datetime_y', 'year_y'])"
   ]
  },
  {
   "cell_type": "code",
   "execution_count": 21,
   "metadata": {},
   "outputs": [
    {
     "name": "stdout",
     "output_type": "stream",
     "text": [
      "<class 'pandas.core.frame.DataFrame'>\n",
      "Int64Index: 1103442 entries, 0 to 1103441\n",
      "Data columns (total 14 columns):\n",
      " #   Column                   Non-Null Count    Dtype         \n",
      "---  ------                   --------------    -----         \n",
      " 0   player_club_id           1103442 non-null  int64         \n",
      " 1   player_current_club_id   1103442 non-null  int64         \n",
      " 2   goals                    1103442 non-null  int64         \n",
      " 3   assists                  1103442 non-null  int64         \n",
      " 4   minutes_played           1103442 non-null  int64         \n",
      " 5   datetime_x               1103442 non-null  datetime64[ns]\n",
      " 6   season                   1103442 non-null  int64         \n",
      " 7   home_club_id             1103442 non-null  int64         \n",
      " 8   away_club_id             1103442 non-null  int64         \n",
      " 9   home_club_goals          1103442 non-null  int64         \n",
      " 10  away_club_goals          1103442 non-null  int64         \n",
      " 11  aggregate                1103442 non-null  object        \n",
      " 12  total_market_value_home  1070651 non-null  float64       \n",
      " 13  total_market_value_away  1080228 non-null  float64       \n",
      "dtypes: datetime64[ns](1), float64(2), int64(10), object(1)\n",
      "memory usage: 126.3+ MB\n"
     ]
    }
   ],
   "source": [
    "df2.info()"
   ]
  },
  {
   "cell_type": "code",
   "execution_count": 22,
   "metadata": {},
   "outputs": [
    {
     "data": {
      "text/plain": [
       "Index(['games_2022', 'minutes_played_2022', 'goals_2022', 'assists_2022',\n",
       "       'goals_against_2022', 'goals_for_2022', 'height_in_cm', 'age',\n",
       "       'squad_size', 'term_days_remaining', 'market_value_in_eur',\n",
       "       'value_goals_for', 'yellow_cards_2022', 'red_cards_2022',\n",
       "       'value_goals_for_2022', 'position_Attack', 'position_Defender',\n",
       "       'position_Goalkeeper', 'position_Midfield',\n",
       "       'sub_position_Attacking Midfield', 'sub_position_Central Midfield',\n",
       "       'sub_position_Centre-Back', 'sub_position_Centre-Forward',\n",
       "       'sub_position_Defensive Midfield', 'sub_position_Left Midfield',\n",
       "       'sub_position_Left Winger', 'sub_position_Left-Back',\n",
       "       'sub_position_Right Midfield', 'sub_position_Right Winger',\n",
       "       'sub_position_Right-Back', 'sub_position_Second Striker', 'foot_Both',\n",
       "       'foot_Left', 'foot_Right'],\n",
       "      dtype='object')"
      ]
     },
     "execution_count": 22,
     "metadata": {},
     "output_type": "execute_result"
    }
   ],
   "source": [
    "df_preprocessed.columns"
   ]
  },
  {
   "cell_type": "code",
   "execution_count": null,
   "metadata": {},
   "outputs": [],
   "source": []
  },
  {
   "cell_type": "code",
   "execution_count": null,
   "metadata": {},
   "outputs": [],
   "source": []
  },
  {
   "cell_type": "code",
   "execution_count": null,
   "metadata": {},
   "outputs": [],
   "source": []
  },
  {
   "cell_type": "code",
   "execution_count": null,
   "metadata": {},
   "outputs": [],
   "source": []
  },
  {
   "cell_type": "code",
   "execution_count": null,
   "metadata": {},
   "outputs": [],
   "source": []
  },
  {
   "cell_type": "code",
   "execution_count": null,
   "metadata": {},
   "outputs": [],
   "source": []
  },
  {
   "cell_type": "code",
   "execution_count": null,
   "metadata": {},
   "outputs": [],
   "source": []
  },
  {
   "cell_type": "code",
   "execution_count": null,
   "metadata": {},
   "outputs": [],
   "source": []
  },
  {
   "cell_type": "code",
   "execution_count": null,
   "metadata": {},
   "outputs": [],
   "source": []
  },
  {
   "cell_type": "code",
   "execution_count": null,
   "metadata": {},
   "outputs": [],
   "source": []
  },
  {
   "cell_type": "code",
   "execution_count": null,
   "metadata": {},
   "outputs": [],
   "source": []
  },
  {
   "cell_type": "code",
   "execution_count": null,
   "metadata": {},
   "outputs": [],
   "source": []
  },
  {
   "cell_type": "code",
   "execution_count": null,
   "metadata": {},
   "outputs": [],
   "source": []
  },
  {
   "cell_type": "code",
   "execution_count": null,
   "metadata": {},
   "outputs": [],
   "source": []
  },
  {
   "cell_type": "code",
   "execution_count": null,
   "metadata": {},
   "outputs": [],
   "source": [
    "\n"
   ]
  },
  {
   "cell_type": "code",
   "execution_count": null,
   "metadata": {},
   "outputs": [],
   "source": []
  },
  {
   "cell_type": "code",
   "execution_count": null,
   "metadata": {},
   "outputs": [],
   "source": []
  },
  {
   "cell_type": "code",
   "execution_count": null,
   "metadata": {},
   "outputs": [],
   "source": [
    "\n"
   ]
  },
  {
   "cell_type": "code",
   "execution_count": null,
   "metadata": {},
   "outputs": [],
   "source": [
    "\n",
    "\n"
   ]
  },
  {
   "cell_type": "code",
   "execution_count": null,
   "metadata": {},
   "outputs": [],
   "source": []
  },
  {
   "cell_type": "code",
   "execution_count": null,
   "metadata": {},
   "outputs": [],
   "source": []
  },
  {
   "cell_type": "code",
   "execution_count": null,
   "metadata": {},
   "outputs": [],
   "source": []
  },
  {
   "cell_type": "code",
   "execution_count": null,
   "metadata": {},
   "outputs": [],
   "source": []
  }
 ],
 "metadata": {
  "kernelspec": {
   "display_name": "lewagon",
   "language": "python",
   "name": "python3"
  },
  "language_info": {
   "codemirror_mode": {
    "name": "ipython",
    "version": 3
   },
   "file_extension": ".py",
   "mimetype": "text/x-python",
   "name": "python",
   "nbconvert_exporter": "python",
   "pygments_lexer": "ipython3",
   "version": "3.10.6"
  },
  "orig_nbformat": 4
 },
 "nbformat": 4,
 "nbformat_minor": 2
}
